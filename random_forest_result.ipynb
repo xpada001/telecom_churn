{
 "cells": [
  {
   "cell_type": "code",
   "execution_count": 0,
   "metadata": {
    "colab": {},
    "colab_type": "code",
    "id": "Yvd00WI2Ujgy"
   },
   "outputs": [],
   "source": [
    "import numpy as np\n",
    "from sklearn.ensemble import RandomForestClassifier\n",
    "from sklearn.model_selection import train_test_split\n",
    "from sklearn.metrics import accuracy_score\n",
    "from sklearn.metrics import confusion_matrix\n",
    "import pandas as pd"
   ]
  },
  {
   "cell_type": "code",
   "execution_count": 0,
   "metadata": {
    "colab": {},
    "colab_type": "code",
    "id": "lbENAYsz3ZhQ"
   },
   "outputs": [],
   "source": [
    "train = pd.read_csv('train_no_missing_outlier.csv')\n",
    "del train['id']\n",
    "del train['open_date']\n",
    "target='flag'\n",
    "train['flag'].value_counts()\n",
    "x_columns=[x for x in train.columns if x not in [target] ]\n",
    "X_tot=train[x_columns]\n",
    "X=X_tot.drop(columns=['caller_sum_45','caller_sum_456','record_sum_45','record_sum_456','time_sum_45','time_sum_456'])\n",
    "y=train['flag']"
   ]
  },
  {
   "cell_type": "code",
   "execution_count": 5,
   "metadata": {
    "colab": {
     "base_uri": "https://localhost:8080/",
     "height": 186
    },
    "colab_type": "code",
    "id": "UJ5pZx5H2-Cp",
    "outputId": "b317822d-2526-45ff-adc8-8c4fbe3518ce"
   },
   "outputs": [
    {
     "name": "stderr",
     "output_type": "stream",
     "text": [
      "/usr/local/lib/python3.6/dist-packages/sklearn/ensemble/forest.py:246: FutureWarning: The default value of n_estimators will change from 10 in version 0.20 to 100 in 0.22.\n",
      "  \"10 in version 0.20 to 100 in 0.22.\", FutureWarning)\n"
     ]
    },
    {
     "data": {
      "text/plain": [
       "RandomForestClassifier(bootstrap=True, class_weight=None, criterion='gini',\n",
       "            max_depth=None, max_features='auto', max_leaf_nodes=None,\n",
       "            min_impurity_decrease=0.0, min_impurity_split=None,\n",
       "            min_samples_leaf=1, min_samples_split=2,\n",
       "            min_weight_fraction_leaf=0.0, n_estimators=10, n_jobs=None,\n",
       "            oob_score=False, random_state=None, verbose=0,\n",
       "            warm_start=False)"
      ]
     },
     "execution_count": 5,
     "metadata": {
      "tags": []
     },
     "output_type": "execute_result"
    }
   ],
   "source": [
    "X_train, X_test, y_train, y_test = train_test_split(X, y, test_size=0.2)\n",
    "clf = RandomForestClassifier()\n",
    "clf.fit(X_train, y_train)"
   ]
  },
  {
   "cell_type": "code",
   "execution_count": 0,
   "metadata": {
    "colab": {},
    "colab_type": "code",
    "id": "pi998MOV8TDJ"
   },
   "outputs": [],
   "source": [
    "y_pred = clf.predict(X_test)"
   ]
  },
  {
   "cell_type": "code",
   "execution_count": 7,
   "metadata": {
    "colab": {
     "base_uri": "https://localhost:8080/",
     "height": 105
    },
    "colab_type": "code",
    "id": "IqvKkNTzXtXs",
    "outputId": "0153b00e-8480-44fe-cc5d-1a8f15d7e2fc"
   },
   "outputs": [
    {
     "name": "stdout",
     "output_type": "stream",
     "text": [
      "Accuracy for the RandomForest Tree model: 0.8768304565975019\n",
      "Confusion matrix for the RandomForest Tree model:\n",
      "[[851290  22383]\n",
      " [103010  41369]]\n"
     ]
    }
   ],
   "source": [
    "print('Accuracy for the RandomForest Tree model:',accuracy_score(y_test, y_pred))\n",
    "print('Confusion matrix for the RandomForest Tree model:')\n",
    "print(confusion_matrix(y_test, y_pred))"
   ]
  },
  {
   "cell_type": "code",
   "execution_count": 0,
   "metadata": {
    "colab": {},
    "colab_type": "code",
    "id": "bkyCmIwszHQP"
   },
   "outputs": [],
   "source": [
    "from sklearn.metrics import roc_auc_score\n",
    "roc_score = roc_auc_score(y_test, y_pred)"
   ]
  },
  {
   "cell_type": "code",
   "execution_count": 9,
   "metadata": {
    "colab": {
     "base_uri": "https://localhost:8080/",
     "height": 54
    },
    "colab_type": "code",
    "id": "yfuRHWAYGsLN",
    "outputId": "8bcb956d-57f1-4b54-fd03-56b02d5afd94"
   },
   "outputs": [
    {
     "data": {
      "text/plain": [
       "0.6304555822559829"
      ]
     },
     "execution_count": 9,
     "metadata": {
      "tags": []
     },
     "output_type": "execute_result"
    }
   ],
   "source": [
    "roc_score"
   ]
  },
  {
   "cell_type": "code",
   "execution_count": 10,
   "metadata": {
    "colab": {
     "base_uri": "https://localhost:8080/",
     "height": 193
    },
    "colab_type": "code",
    "id": "w10SBaqzG4DK",
    "outputId": "d503518d-2d9c-40a4-ed13-f6eb11c19bef"
   },
   "outputs": [
    {
     "name": "stderr",
     "output_type": "stream",
     "text": [
      "/usr/local/lib/python3.6/dist-packages/sklearn/ensemble/forest.py:246: FutureWarning: The default value of n_estimators will change from 10 in version 0.20 to 100 in 0.22.\n",
      "  \"10 in version 0.20 to 100 in 0.22.\", FutureWarning)\n"
     ]
    },
    {
     "data": {
      "text/plain": [
       "RandomForestClassifier(bootstrap=True, class_weight={0: 0.2, 1: 0.8},\n",
       "            criterion='gini', max_depth=None, max_features='auto',\n",
       "            max_leaf_nodes=None, min_impurity_decrease=0.0,\n",
       "            min_impurity_split=None, min_samples_leaf=1,\n",
       "            min_samples_split=2, min_weight_fraction_leaf=0.0,\n",
       "            n_estimators=10, n_jobs=None, oob_score=False,\n",
       "            random_state=None, verbose=0, warm_start=False)"
      ]
     },
     "execution_count": 10,
     "metadata": {
      "tags": []
     },
     "output_type": "execute_result"
    }
   ],
   "source": [
    "clf = RandomForestClassifier(class_weight={0:0.2,1:0.8})\n",
    "clf.fit(X_train, y_train)"
   ]
  },
  {
   "cell_type": "code",
   "execution_count": 11,
   "metadata": {
    "colab": {
     "base_uri": "https://localhost:8080/",
     "height": 120
    },
    "colab_type": "code",
    "id": "0mHvU2kjS7d4",
    "outputId": "c307a519-6906-4aa8-ad03-750bdd01827e"
   },
   "outputs": [
    {
     "name": "stdout",
     "output_type": "stream",
     "text": [
      "the accuracy is: 0.8773697217823844\n",
      "the accuracy is: 0.621822712940904\n",
      "Confusion matrix for the RandomForest model(with weight):\n",
      "[[854934  18739]\n",
      " [106105  38274]]\n"
     ]
    }
   ],
   "source": [
    "y_pred = clf.predict(X_test)\n",
    "print('the accuracy is:',accuracy_score(y_test, y_pred))\n",
    "print('the accuracy is:',roc_auc_score(y_test, y_pred))\n",
    "print('Confusion matrix for the RandomForest model(with weight):')\n",
    "print(confusion_matrix(y_test, y_pred))"
   ]
  },
  {
   "cell_type": "code",
   "execution_count": 12,
   "metadata": {
    "colab": {
     "base_uri": "https://localhost:8080/",
     "height": 160
    },
    "colab_type": "code",
    "id": "VY5kO9uhRDVS",
    "outputId": "f0111c9a-1a31-4a79-ceb6-c4c62b67ac70"
   },
   "outputs": [
    {
     "name": "stderr",
     "output_type": "stream",
     "text": [
      "/usr/local/lib/python3.6/dist-packages/sklearn/ensemble/forest.py:246: FutureWarning: The default value of n_estimators will change from 10 in version 0.20 to 100 in 0.22.\n",
      "  \"10 in version 0.20 to 100 in 0.22.\", FutureWarning)\n"
     ]
    },
    {
     "name": "stdout",
     "output_type": "stream",
     "text": [
      "the accuracy is: 0.8775042925115809\n",
      "the accuracy is: 0.6186460643577336\n",
      "Confusion matrix for the RandomForest model(with weight):\n",
      "[[856197  17476]\n",
      " [107231  37148]]\n"
     ]
    }
   ],
   "source": [
    "clf = RandomForestClassifier(class_weight={0:0.1,1:0.9})\n",
    "clf.fit(X_train, y_train)\n",
    "y_pred = clf.predict(X_test)\n",
    "print('the accuracy is:',accuracy_score(y_test, y_pred))\n",
    "print('the accuracy is:',roc_auc_score(y_test, y_pred))\n",
    "print('Confusion matrix for the RandomForest model(with weight):')\n",
    "print(confusion_matrix(y_test, y_pred))"
   ]
  },
  {
   "cell_type": "code",
   "execution_count": 13,
   "metadata": {
    "colab": {
     "base_uri": "https://localhost:8080/",
     "height": 160
    },
    "colab_type": "code",
    "id": "eNwlK0TiTz-g",
    "outputId": "f439d4f7-096d-4c9c-9031-f3ffa3b4e4c7"
   },
   "outputs": [
    {
     "name": "stderr",
     "output_type": "stream",
     "text": [
      "/usr/local/lib/python3.6/dist-packages/sklearn/ensemble/forest.py:246: FutureWarning: The default value of n_estimators will change from 10 in version 0.20 to 100 in 0.22.\n",
      "  \"10 in version 0.20 to 100 in 0.22.\", FutureWarning)\n"
     ]
    },
    {
     "name": "stdout",
     "output_type": "stream",
     "text": [
      "the accuracy is: 0.8774325869405492\n",
      "the accuracy is: 0.62494961689267\n",
      "Confusion matrix for the RandomForest model(with weight):\n",
      "[[853929  19744]\n",
      " [105036  39343]]\n"
     ]
    }
   ],
   "source": [
    "clf = RandomForestClassifier(class_weight={0:0.3,1:0.7})\n",
    "clf.fit(X_train, y_train)\n",
    "y_pred = clf.predict(X_test)\n",
    "print('the accuracy is:',accuracy_score(y_test, y_pred))\n",
    "print('the accuracy is:',roc_auc_score(y_test, y_pred))\n",
    "print('Confusion matrix for the RandomForest model(with weight):')\n",
    "print(confusion_matrix(y_test, y_pred))"
   ]
  },
  {
   "cell_type": "code",
   "execution_count": 14,
   "metadata": {
    "colab": {
     "base_uri": "https://localhost:8080/",
     "height": 160
    },
    "colab_type": "code",
    "id": "pmFv-L6NWrqX",
    "outputId": "42d3f57b-7c68-43cc-c1b4-1b8dbcd3c721"
   },
   "outputs": [
    {
     "name": "stderr",
     "output_type": "stream",
     "text": [
      "/usr/local/lib/python3.6/dist-packages/sklearn/ensemble/forest.py:246: FutureWarning: The default value of n_estimators will change from 10 in version 0.20 to 100 in 0.22.\n",
      "  \"10 in version 0.20 to 100 in 0.22.\", FutureWarning)\n"
     ]
    },
    {
     "name": "stdout",
     "output_type": "stream",
     "text": [
      "the accuracy is: 0.8770328038253449\n",
      "the accuracy is: 0.628029561641168\n",
      "Confusion matrix for the RandomForest model(with weight):\n",
      "[[852376  21297]\n",
      " [103890  40489]]\n"
     ]
    }
   ],
   "source": [
    "clf = RandomForestClassifier(class_weight={0:0.4,1:0.6})\n",
    "clf.fit(X_train, y_train)\n",
    "y_pred = clf.predict(X_test)\n",
    "print('the accuracy is:',accuracy_score(y_test, y_pred))\n",
    "print('the accuracy is:',roc_auc_score(y_test, y_pred))\n",
    "print('Confusion matrix for the RandomForest model(with weight):')\n",
    "print(confusion_matrix(y_test, y_pred))"
   ]
  },
  {
   "cell_type": "code",
   "execution_count": 15,
   "metadata": {
    "colab": {
     "base_uri": "https://localhost:8080/",
     "height": 160
    },
    "colab_type": "code",
    "id": "kverxOCHZQFL",
    "outputId": "76f6a41d-8709-4726-8665-dbde2b673fb2"
   },
   "outputs": [
    {
     "name": "stderr",
     "output_type": "stream",
     "text": [
      "/usr/local/lib/python3.6/dist-packages/sklearn/ensemble/forest.py:246: FutureWarning: The default value of n_estimators will change from 10 in version 0.20 to 100 in 0.22.\n",
      "  \"10 in version 0.20 to 100 in 0.22.\", FutureWarning)\n"
     ]
    },
    {
     "name": "stdout",
     "output_type": "stream",
     "text": [
      "the accuracy is: 0.8765868541096132\n",
      "the accuracy is: 0.6299349564809406\n",
      "Confusion matrix for the RandomForest model(with weight):\n",
      "[[851173  22500]\n",
      " [103141  41238]]\n"
     ]
    }
   ],
   "source": [
    "clf = RandomForestClassifier(class_weight={0:0.5,1:0.5})\n",
    "clf.fit(X_train, y_train)\n",
    "y_pred = clf.predict(X_test)\n",
    "print('the accuracy is:',accuracy_score(y_test, y_pred))\n",
    "print('the accuracy is:',roc_auc_score(y_test, y_pred))\n",
    "print('Confusion matrix for the RandomForest model(with weight):')\n",
    "print(confusion_matrix(y_test, y_pred))"
   ]
  },
  {
   "cell_type": "code",
   "execution_count": 16,
   "metadata": {
    "colab": {
     "base_uri": "https://localhost:8080/",
     "height": 105
    },
    "colab_type": "code",
    "id": "Lg_rkBKyWud0",
    "outputId": "9e7b4fb9-e4bc-4994-9907-14585b59f3c9"
   },
   "outputs": [
    {
     "name": "stdout",
     "output_type": "stream",
     "text": [
      "Accuracy for the RandomForest Tree model(with weight): 0.8765868541096132\n",
      "Confusion matrix for the RandomForest model(with weight):\n",
      "[[851173  22500]\n",
      " [103141  41238]]\n"
     ]
    }
   ],
   "source": [
    "print('Accuracy for the RandomForest Tree model(with weight):',accuracy_score(y_test, y_pred))\n",
    "print('Confusion matrix for the RandomForest model(with weight):')\n",
    "print(confusion_matrix(y_test, y_pred))"
   ]
  },
  {
   "cell_type": "code",
   "execution_count": 17,
   "metadata": {
    "colab": {
     "base_uri": "https://localhost:8080/",
     "height": 145
    },
    "colab_type": "code",
    "id": "9HT0NRCwXHOr",
    "outputId": "96eab596-b979-407f-e1fe-2fc687302d38"
   },
   "outputs": [
    {
     "name": "stderr",
     "output_type": "stream",
     "text": [
      "/usr/local/lib/python3.6/dist-packages/sklearn/ensemble/forest.py:246: FutureWarning: The default value of n_estimators will change from 10 in version 0.20 to 100 in 0.22.\n",
      "  \"10 in version 0.20 to 100 in 0.22.\", FutureWarning)\n"
     ]
    },
    {
     "name": "stdout",
     "output_type": "stream",
     "text": [
      "Accuracy for the RandomForest Tree model(with weight and feature selection): 0.8767921481417452\n",
      "Confusion matrix for the RandomForest model(with weight):\n",
      "[[853776  19542]\n",
      " [105890  38844]]\n"
     ]
    }
   ],
   "source": [
    "xx=['day','record_sum_5','caller_sum_5','record_sum_6','record_sum_4','brand','time_sum_5','time_sum_4','caller_sum_4','city_flag']\n",
    "X=train[xx]\n",
    "X_train, X_test, y_train, y_test = train_test_split(X, y, test_size=0.2)\n",
    "clf = RandomForestClassifier(class_weight={0:0.2,1:0.8})\n",
    "clf.fit(X_train, y_train)\n",
    "y_pred = clf.predict(X_test)\n",
    "print('Accuracy for the RandomForest Tree model(with weight and feature selection):',accuracy_score(y_test, y_pred))\n",
    "print('Confusion matrix for the RandomForest model(with weight):')\n",
    "print(confusion_matrix(y_test, y_pred))"
   ]
  }
 ],
 "metadata": {
  "accelerator": "GPU",
  "colab": {
   "collapsed_sections": [],
   "name": "random forest result.ipynb",
   "provenance": [],
   "version": "0.3.2"
  },
  "kernelspec": {
   "display_name": "Python 3",
   "language": "python",
   "name": "python3"
  },
  "language_info": {
   "codemirror_mode": {
    "name": "ipython",
    "version": 3
   },
   "file_extension": ".py",
   "mimetype": "text/x-python",
   "name": "python",
   "nbconvert_exporter": "python",
   "pygments_lexer": "ipython3",
   "version": "3.7.3"
  }
 },
 "nbformat": 4,
 "nbformat_minor": 1
}
