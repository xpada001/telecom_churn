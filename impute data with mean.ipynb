{
 "cells": [
  {
   "cell_type": "code",
   "execution_count": 0,
   "metadata": {
    "colab": {
     "base_uri": "https://localhost:8080/",
     "height": 35
    },
    "colab_type": "code",
    "executionInfo": {
     "elapsed": 817,
     "status": "ok",
     "timestamp": 1544379128268,
     "user": {
      "displayName": "Chen Siao",
      "photoUrl": "",
      "userId": "10255725406936450127"
     },
     "user_tz": 300
    },
    "id": "rJi-GVG1e_Pj",
    "outputId": "b5fd04f6-0f98-4521-811a-f44f976711fe"
   },
   "outputs": [
    {
     "name": "stdout",
     "output_type": "stream",
     "text": [
      "Drive already mounted at /Downloads/; to attempt to forcibly remount, call drive.mount(\"/Downloads/\", force_remount=True).\n"
     ]
    }
   ],
   "source": [
    "from google.colab import drive\n",
    "drive.mount('/Downloads/')"
   ]
  },
  {
   "cell_type": "code",
   "execution_count": 0,
   "metadata": {
    "colab": {},
    "colab_type": "code",
    "id": "y8CAwsKwaWOq"
   },
   "outputs": [],
   "source": [
    "#for download files\n",
    "# Install the PyDrive wrapper & import libraries.\n",
    "# This only needs to be done once in a notebook.\n",
    "!pip install -U -q PyDrive\n",
    "from pydrive.auth import GoogleAuth\n",
    "from pydrive.drive import GoogleDrive\n",
    "from google.colab import auth\n",
    "from oauth2client.client import GoogleCredentials\n"
   ]
  },
  {
   "cell_type": "code",
   "execution_count": 0,
   "metadata": {
    "colab": {},
    "colab_type": "code",
    "id": "yY9CqWP7iCgG"
   },
   "outputs": [],
   "source": [
    "import pandas as pd\n",
    "import numpy as np\n",
    "import sklearn as sk\n",
    "from sklearn.datasets import load_iris\n",
    "from sklearn.linear_model import LogisticRegression\n",
    "import matplotlib.pyplot as plt \n",
    "from sklearn.model_selection import train_test_split\n",
    "from sklearn.decomposition import PCA\n",
    "import seaborn as sns\n",
    "from google.colab import drive\n",
    "import csv\n",
    "from sklearn.metrics import roc_auc_score\n",
    "from sklearn.metrics import roc_curve\n",
    "from sklearn.metrics import confusion_matrix\n",
    "from sklearn.preprocessing import StandardScaler\n",
    "from sklearn.preprocessing import Imputer"
   ]
  },
  {
   "cell_type": "code",
   "execution_count": 0,
   "metadata": {
    "colab": {},
    "colab_type": "code",
    "id": "iKgG7JDWh4LX"
   },
   "outputs": [],
   "source": [
    "train = pd.read_csv('train.csv')\n",
    "train.drop(['id','open_date'], axis = 1, inplace=True)"
   ]
  },
  {
   "cell_type": "code",
   "execution_count": 0,
   "metadata": {
    "colab": {
     "base_uri": "https://localhost:8080/",
     "height": 35
    },
    "colab_type": "code",
    "executionInfo": {
     "elapsed": 16666,
     "status": "ok",
     "timestamp": 1544379144251,
     "user": {
      "displayName": "Chen Siao",
      "photoUrl": "",
      "userId": "10255725406936450127"
     },
     "user_tz": 300
    },
    "id": "9ZAaAo8Ch_nt",
    "outputId": "f601b509-58e3-4cd9-933e-89ffb82829d9"
   },
   "outputs": [
    {
     "data": {
      "text/plain": [
       "(5342477, 19)"
      ]
     },
     "execution_count": 6,
     "metadata": {
      "tags": []
     },
     "output_type": "execute_result"
    }
   ],
   "source": [
    "train.shape"
   ]
  },
  {
   "cell_type": "code",
   "execution_count": 0,
   "metadata": {
    "colab": {
     "base_uri": "https://localhost:8080/",
     "height": 364
    },
    "colab_type": "code",
    "executionInfo": {
     "elapsed": 18387,
     "status": "ok",
     "timestamp": 1544379145991,
     "user": {
      "displayName": "Chen Siao",
      "photoUrl": "",
      "userId": "10255725406936450127"
     },
     "user_tz": 300
    },
    "id": "JwdtTolskszH",
    "outputId": "f21a8952-50bd-4d47-cad7-8631c89687da"
   },
   "outputs": [
    {
     "data": {
      "text/plain": [
       "caller_sum_6      139535\n",
       "record_sum_6      139535\n",
       "time_sum_6        139535\n",
       "caller_sum_4           0\n",
       "record_sum_4           0\n",
       "time_sum_4             0\n",
       "caller_sum_5      230582\n",
       "record_sum_5      230582\n",
       "time_sum_5        230582\n",
       "brand                  0\n",
       "city_flag           4062\n",
       "day                   14\n",
       "caller_sum_45     230582\n",
       "caller_sum_456    248512\n",
       "record_sum_45     230582\n",
       "record_sum_456    248512\n",
       "time_sum_45       230582\n",
       "time_sum_456      248512\n",
       "flag                   0\n",
       "dtype: int64"
      ]
     },
     "execution_count": 7,
     "metadata": {
      "tags": []
     },
     "output_type": "execute_result"
    }
   ],
   "source": [
    "np.sum(train.isnull())"
   ]
  },
  {
   "cell_type": "code",
   "execution_count": 0,
   "metadata": {
    "colab": {
     "base_uri": "https://localhost:8080/",
     "height": 222
    },
    "colab_type": "code",
    "executionInfo": {
     "elapsed": 18362,
     "status": "ok",
     "timestamp": 1544379145993,
     "user": {
      "displayName": "Chen Siao",
      "photoUrl": "",
      "userId": "10255725406936450127"
     },
     "user_tz": 300
    },
    "id": "SnchonHhIbu2",
    "outputId": "ef55296c-501f-4a65-9d6a-e38942e94cdc"
   },
   "outputs": [
    {
     "data": {
      "text/html": [
       "<div>\n",
       "<style scoped>\n",
       "    .dataframe tbody tr th:only-of-type {\n",
       "        vertical-align: middle;\n",
       "    }\n",
       "\n",
       "    .dataframe tbody tr th {\n",
       "        vertical-align: top;\n",
       "    }\n",
       "\n",
       "    .dataframe thead th {\n",
       "        text-align: right;\n",
       "    }\n",
       "</style>\n",
       "<table border=\"1\" class=\"dataframe\">\n",
       "  <thead>\n",
       "    <tr style=\"text-align: right;\">\n",
       "      <th></th>\n",
       "      <th>caller_sum_6</th>\n",
       "      <th>record_sum_6</th>\n",
       "      <th>time_sum_6</th>\n",
       "      <th>caller_sum_4</th>\n",
       "      <th>record_sum_4</th>\n",
       "      <th>time_sum_4</th>\n",
       "      <th>caller_sum_5</th>\n",
       "      <th>record_sum_5</th>\n",
       "      <th>time_sum_5</th>\n",
       "      <th>brand</th>\n",
       "      <th>city_flag</th>\n",
       "      <th>day</th>\n",
       "      <th>caller_sum_45</th>\n",
       "      <th>caller_sum_456</th>\n",
       "      <th>record_sum_45</th>\n",
       "      <th>record_sum_456</th>\n",
       "      <th>time_sum_45</th>\n",
       "      <th>time_sum_456</th>\n",
       "      <th>flag</th>\n",
       "    </tr>\n",
       "  </thead>\n",
       "  <tbody>\n",
       "    <tr>\n",
       "      <th>0</th>\n",
       "      <td>5.0</td>\n",
       "      <td>6.0</td>\n",
       "      <td>123.0</td>\n",
       "      <td>28</td>\n",
       "      <td>86</td>\n",
       "      <td>1423</td>\n",
       "      <td>NaN</td>\n",
       "      <td>NaN</td>\n",
       "      <td>NaN</td>\n",
       "      <td>3</td>\n",
       "      <td>0.0</td>\n",
       "      <td>536.0</td>\n",
       "      <td>NaN</td>\n",
       "      <td>NaN</td>\n",
       "      <td>NaN</td>\n",
       "      <td>NaN</td>\n",
       "      <td>NaN</td>\n",
       "      <td>NaN</td>\n",
       "      <td>1</td>\n",
       "    </tr>\n",
       "    <tr>\n",
       "      <th>1</th>\n",
       "      <td>198.0</td>\n",
       "      <td>535.0</td>\n",
       "      <td>2295.0</td>\n",
       "      <td>197</td>\n",
       "      <td>572</td>\n",
       "      <td>2666</td>\n",
       "      <td>224.0</td>\n",
       "      <td>638.0</td>\n",
       "      <td>2678.0</td>\n",
       "      <td>1</td>\n",
       "      <td>1.0</td>\n",
       "      <td>863.0</td>\n",
       "      <td>421.0</td>\n",
       "      <td>619.0</td>\n",
       "      <td>1210.0</td>\n",
       "      <td>1745.0</td>\n",
       "      <td>5344.0</td>\n",
       "      <td>7639.0</td>\n",
       "      <td>0</td>\n",
       "    </tr>\n",
       "    <tr>\n",
       "      <th>2</th>\n",
       "      <td>8.0</td>\n",
       "      <td>8.0</td>\n",
       "      <td>14.0</td>\n",
       "      <td>68</td>\n",
       "      <td>147</td>\n",
       "      <td>495</td>\n",
       "      <td>1.0</td>\n",
       "      <td>1.0</td>\n",
       "      <td>1.0</td>\n",
       "      <td>1</td>\n",
       "      <td>1.0</td>\n",
       "      <td>1809.0</td>\n",
       "      <td>69.0</td>\n",
       "      <td>77.0</td>\n",
       "      <td>148.0</td>\n",
       "      <td>156.0</td>\n",
       "      <td>496.0</td>\n",
       "      <td>510.0</td>\n",
       "      <td>1</td>\n",
       "    </tr>\n",
       "    <tr>\n",
       "      <th>3</th>\n",
       "      <td>26.0</td>\n",
       "      <td>74.0</td>\n",
       "      <td>291.0</td>\n",
       "      <td>25</td>\n",
       "      <td>100</td>\n",
       "      <td>403</td>\n",
       "      <td>29.0</td>\n",
       "      <td>87.0</td>\n",
       "      <td>340.0</td>\n",
       "      <td>2</td>\n",
       "      <td>1.0</td>\n",
       "      <td>2551.0</td>\n",
       "      <td>54.0</td>\n",
       "      <td>80.0</td>\n",
       "      <td>187.0</td>\n",
       "      <td>261.0</td>\n",
       "      <td>743.0</td>\n",
       "      <td>1034.0</td>\n",
       "      <td>0</td>\n",
       "    </tr>\n",
       "    <tr>\n",
       "      <th>4</th>\n",
       "      <td>49.0</td>\n",
       "      <td>213.0</td>\n",
       "      <td>797.0</td>\n",
       "      <td>50</td>\n",
       "      <td>210</td>\n",
       "      <td>771</td>\n",
       "      <td>56.0</td>\n",
       "      <td>245.0</td>\n",
       "      <td>1026.0</td>\n",
       "      <td>3</td>\n",
       "      <td>1.0</td>\n",
       "      <td>91.0</td>\n",
       "      <td>106.0</td>\n",
       "      <td>155.0</td>\n",
       "      <td>455.0</td>\n",
       "      <td>668.0</td>\n",
       "      <td>1797.0</td>\n",
       "      <td>2594.0</td>\n",
       "      <td>0</td>\n",
       "    </tr>\n",
       "  </tbody>\n",
       "</table>\n",
       "</div>"
      ],
      "text/plain": [
       "   caller_sum_6  record_sum_6  time_sum_6  caller_sum_4  record_sum_4  \\\n",
       "0           5.0           6.0       123.0            28            86   \n",
       "1         198.0         535.0      2295.0           197           572   \n",
       "2           8.0           8.0        14.0            68           147   \n",
       "3          26.0          74.0       291.0            25           100   \n",
       "4          49.0         213.0       797.0            50           210   \n",
       "\n",
       "   time_sum_4  caller_sum_5  record_sum_5  time_sum_5  brand  city_flag  \\\n",
       "0        1423           NaN           NaN         NaN      3        0.0   \n",
       "1        2666         224.0         638.0      2678.0      1        1.0   \n",
       "2         495           1.0           1.0         1.0      1        1.0   \n",
       "3         403          29.0          87.0       340.0      2        1.0   \n",
       "4         771          56.0         245.0      1026.0      3        1.0   \n",
       "\n",
       "      day  caller_sum_45  caller_sum_456  record_sum_45  record_sum_456  \\\n",
       "0   536.0            NaN             NaN            NaN             NaN   \n",
       "1   863.0          421.0           619.0         1210.0          1745.0   \n",
       "2  1809.0           69.0            77.0          148.0           156.0   \n",
       "3  2551.0           54.0            80.0          187.0           261.0   \n",
       "4    91.0          106.0           155.0          455.0           668.0   \n",
       "\n",
       "   time_sum_45  time_sum_456  flag  \n",
       "0          NaN           NaN     1  \n",
       "1       5344.0        7639.0     0  \n",
       "2        496.0         510.0     1  \n",
       "3        743.0        1034.0     0  \n",
       "4       1797.0        2594.0     0  "
      ]
     },
     "execution_count": 8,
     "metadata": {
      "tags": []
     },
     "output_type": "execute_result"
    }
   ],
   "source": [
    "train.head()"
   ]
  },
  {
   "cell_type": "code",
   "execution_count": 0,
   "metadata": {
    "colab": {},
    "colab_type": "code",
    "id": "wIuueOHVmlW8"
   },
   "outputs": [],
   "source": [
    "train_complete = Imputer().fit_transform(train)"
   ]
  },
  {
   "cell_type": "code",
   "execution_count": 0,
   "metadata": {
    "colab": {
     "base_uri": "https://localhost:8080/",
     "height": 35
    },
    "colab_type": "code",
    "executionInfo": {
     "elapsed": 21940,
     "status": "ok",
     "timestamp": 1544379149600,
     "user": {
      "displayName": "Chen Siao",
      "photoUrl": "",
      "userId": "10255725406936450127"
     },
     "user_tz": 300
    },
    "id": "A6WUlBqhmym0",
    "outputId": "0e1fc5f0-ffeb-44bb-c70b-2830499c5481"
   },
   "outputs": [
    {
     "data": {
      "text/plain": [
       "0"
      ]
     },
     "execution_count": 10,
     "metadata": {
      "tags": []
     },
     "output_type": "execute_result"
    }
   ],
   "source": [
    "np.isnan(train_complete).sum()"
   ]
  },
  {
   "cell_type": "code",
   "execution_count": 0,
   "metadata": {
    "colab": {},
    "colab_type": "code",
    "id": "-aY0AcnOe_Rm"
   },
   "outputs": [],
   "source": [
    "from google.colab import files\n",
    "\n",
    "pd.DataFrame(train_complete).to_csv('train_imputed.csv', index=False, header = train.columns)\n"
   ]
  },
  {
   "cell_type": "code",
   "execution_count": 0,
   "metadata": {
    "colab": {},
    "colab_type": "code",
    "id": "OWgn5Wh9isnz"
   },
   "outputs": [],
   "source": [
    "t1 = pd.read_csv('train_imputed.csv')"
   ]
  },
  {
   "cell_type": "code",
   "execution_count": 0,
   "metadata": {
    "colab": {
     "base_uri": "https://localhost:8080/",
     "height": 222
    },
    "colab_type": "code",
    "executionInfo": {
     "elapsed": 126034,
     "status": "ok",
     "timestamp": 1544379253740,
     "user": {
      "displayName": "Chen Siao",
      "photoUrl": "",
      "userId": "10255725406936450127"
     },
     "user_tz": 300
    },
    "id": "n3-3W58Ji5bG",
    "outputId": "2f9fa2e6-521b-4553-d7fa-ae5a93f0275f"
   },
   "outputs": [
    {
     "data": {
      "text/html": [
       "<div>\n",
       "<style scoped>\n",
       "    .dataframe tbody tr th:only-of-type {\n",
       "        vertical-align: middle;\n",
       "    }\n",
       "\n",
       "    .dataframe tbody tr th {\n",
       "        vertical-align: top;\n",
       "    }\n",
       "\n",
       "    .dataframe thead th {\n",
       "        text-align: right;\n",
       "    }\n",
       "</style>\n",
       "<table border=\"1\" class=\"dataframe\">\n",
       "  <thead>\n",
       "    <tr style=\"text-align: right;\">\n",
       "      <th></th>\n",
       "      <th>caller_sum_6</th>\n",
       "      <th>record_sum_6</th>\n",
       "      <th>time_sum_6</th>\n",
       "      <th>caller_sum_4</th>\n",
       "      <th>record_sum_4</th>\n",
       "      <th>time_sum_4</th>\n",
       "      <th>caller_sum_5</th>\n",
       "      <th>record_sum_5</th>\n",
       "      <th>time_sum_5</th>\n",
       "      <th>brand</th>\n",
       "      <th>city_flag</th>\n",
       "      <th>day</th>\n",
       "      <th>caller_sum_45</th>\n",
       "      <th>caller_sum_456</th>\n",
       "      <th>record_sum_45</th>\n",
       "      <th>record_sum_456</th>\n",
       "      <th>time_sum_45</th>\n",
       "      <th>time_sum_456</th>\n",
       "      <th>flag</th>\n",
       "    </tr>\n",
       "  </thead>\n",
       "  <tbody>\n",
       "    <tr>\n",
       "      <th>0</th>\n",
       "      <td>5.0</td>\n",
       "      <td>6.0</td>\n",
       "      <td>123.0</td>\n",
       "      <td>28.0</td>\n",
       "      <td>86.0</td>\n",
       "      <td>1423.0</td>\n",
       "      <td>32.19331</td>\n",
       "      <td>97.763715</td>\n",
       "      <td>431.363511</td>\n",
       "      <td>3.0</td>\n",
       "      <td>0.0</td>\n",
       "      <td>536.0</td>\n",
       "      <td>62.285086</td>\n",
       "      <td>93.339195</td>\n",
       "      <td>194.715076</td>\n",
       "      <td>287.692221</td>\n",
       "      <td>860.562899</td>\n",
       "      <td>6.518331e+08</td>\n",
       "      <td>1.0</td>\n",
       "    </tr>\n",
       "    <tr>\n",
       "      <th>1</th>\n",
       "      <td>198.0</td>\n",
       "      <td>535.0</td>\n",
       "      <td>2295.0</td>\n",
       "      <td>197.0</td>\n",
       "      <td>572.0</td>\n",
       "      <td>2666.0</td>\n",
       "      <td>224.00000</td>\n",
       "      <td>638.000000</td>\n",
       "      <td>2678.000000</td>\n",
       "      <td>1.0</td>\n",
       "      <td>1.0</td>\n",
       "      <td>863.0</td>\n",
       "      <td>421.000000</td>\n",
       "      <td>619.000000</td>\n",
       "      <td>1210.000000</td>\n",
       "      <td>1745.000000</td>\n",
       "      <td>5344.000000</td>\n",
       "      <td>7.639000e+03</td>\n",
       "      <td>0.0</td>\n",
       "    </tr>\n",
       "    <tr>\n",
       "      <th>2</th>\n",
       "      <td>8.0</td>\n",
       "      <td>8.0</td>\n",
       "      <td>14.0</td>\n",
       "      <td>68.0</td>\n",
       "      <td>147.0</td>\n",
       "      <td>495.0</td>\n",
       "      <td>1.00000</td>\n",
       "      <td>1.000000</td>\n",
       "      <td>1.000000</td>\n",
       "      <td>1.0</td>\n",
       "      <td>1.0</td>\n",
       "      <td>1809.0</td>\n",
       "      <td>69.000000</td>\n",
       "      <td>77.000000</td>\n",
       "      <td>148.000000</td>\n",
       "      <td>156.000000</td>\n",
       "      <td>496.000000</td>\n",
       "      <td>5.100000e+02</td>\n",
       "      <td>1.0</td>\n",
       "    </tr>\n",
       "    <tr>\n",
       "      <th>3</th>\n",
       "      <td>26.0</td>\n",
       "      <td>74.0</td>\n",
       "      <td>291.0</td>\n",
       "      <td>25.0</td>\n",
       "      <td>100.0</td>\n",
       "      <td>403.0</td>\n",
       "      <td>29.00000</td>\n",
       "      <td>87.000000</td>\n",
       "      <td>340.000000</td>\n",
       "      <td>2.0</td>\n",
       "      <td>1.0</td>\n",
       "      <td>2551.0</td>\n",
       "      <td>54.000000</td>\n",
       "      <td>80.000000</td>\n",
       "      <td>187.000000</td>\n",
       "      <td>261.000000</td>\n",
       "      <td>743.000000</td>\n",
       "      <td>1.034000e+03</td>\n",
       "      <td>0.0</td>\n",
       "    </tr>\n",
       "    <tr>\n",
       "      <th>4</th>\n",
       "      <td>49.0</td>\n",
       "      <td>213.0</td>\n",
       "      <td>797.0</td>\n",
       "      <td>50.0</td>\n",
       "      <td>210.0</td>\n",
       "      <td>771.0</td>\n",
       "      <td>56.00000</td>\n",
       "      <td>245.000000</td>\n",
       "      <td>1026.000000</td>\n",
       "      <td>3.0</td>\n",
       "      <td>1.0</td>\n",
       "      <td>91.0</td>\n",
       "      <td>106.000000</td>\n",
       "      <td>155.000000</td>\n",
       "      <td>455.000000</td>\n",
       "      <td>668.000000</td>\n",
       "      <td>1797.000000</td>\n",
       "      <td>2.594000e+03</td>\n",
       "      <td>0.0</td>\n",
       "    </tr>\n",
       "  </tbody>\n",
       "</table>\n",
       "</div>"
      ],
      "text/plain": [
       "   caller_sum_6  record_sum_6  time_sum_6  caller_sum_4  record_sum_4  \\\n",
       "0           5.0           6.0       123.0          28.0          86.0   \n",
       "1         198.0         535.0      2295.0         197.0         572.0   \n",
       "2           8.0           8.0        14.0          68.0         147.0   \n",
       "3          26.0          74.0       291.0          25.0         100.0   \n",
       "4          49.0         213.0       797.0          50.0         210.0   \n",
       "\n",
       "   time_sum_4  caller_sum_5  record_sum_5   time_sum_5  brand  city_flag  \\\n",
       "0      1423.0      32.19331     97.763715   431.363511    3.0        0.0   \n",
       "1      2666.0     224.00000    638.000000  2678.000000    1.0        1.0   \n",
       "2       495.0       1.00000      1.000000     1.000000    1.0        1.0   \n",
       "3       403.0      29.00000     87.000000   340.000000    2.0        1.0   \n",
       "4       771.0      56.00000    245.000000  1026.000000    3.0        1.0   \n",
       "\n",
       "      day  caller_sum_45  caller_sum_456  record_sum_45  record_sum_456  \\\n",
       "0   536.0      62.285086       93.339195     194.715076      287.692221   \n",
       "1   863.0     421.000000      619.000000    1210.000000     1745.000000   \n",
       "2  1809.0      69.000000       77.000000     148.000000      156.000000   \n",
       "3  2551.0      54.000000       80.000000     187.000000      261.000000   \n",
       "4    91.0     106.000000      155.000000     455.000000      668.000000   \n",
       "\n",
       "   time_sum_45  time_sum_456  flag  \n",
       "0   860.562899  6.518331e+08   1.0  \n",
       "1  5344.000000  7.639000e+03   0.0  \n",
       "2   496.000000  5.100000e+02   1.0  \n",
       "3   743.000000  1.034000e+03   0.0  \n",
       "4  1797.000000  2.594000e+03   0.0  "
      ]
     },
     "execution_count": 13,
     "metadata": {
      "tags": []
     },
     "output_type": "execute_result"
    }
   ],
   "source": [
    "t1.head()"
   ]
  },
  {
   "cell_type": "code",
   "execution_count": 0,
   "metadata": {
    "colab": {
     "base_uri": "https://localhost:8080/",
     "height": 35
    },
    "colab_type": "code",
    "executionInfo": {
     "elapsed": 612609,
     "status": "ok",
     "timestamp": 1544379740325,
     "user": {
      "displayName": "Chen Siao",
      "photoUrl": "",
      "userId": "10255725406936450127"
     },
     "user_tz": 300
    },
    "id": "DKsCwDnVV49S",
    "outputId": "8c82a080-c953-4d46-ea8b-eff82c100882"
   },
   "outputs": [
    {
     "name": "stdout",
     "output_type": "stream",
     "text": [
      "Uploaded file with ID 1CiR4Bjv3yxwjaBHQRdQuT_LNChJTnS1e\n"
     ]
    }
   ],
   "source": [
    "# Authenticate and create the PyDrive client.\n",
    "# This only needs to be done once in a notebook.\n",
    "auth.authenticate_user()\n",
    "gauth = GoogleAuth()\n",
    "gauth.credentials = GoogleCredentials.get_application_default()\n",
    "drive = GoogleDrive(gauth)\n",
    "\n",
    "# Create & upload a file.\n",
    "uploaded = drive.CreateFile({'title': 'train_missing_replaced.csv'})\n",
    "uploaded.SetContentFile('train_imputed.csv')\n",
    "uploaded.Upload()\n",
    "print('Uploaded file with ID {}'.format(uploaded.get('id')))"
   ]
  },
  {
   "cell_type": "code",
   "execution_count": 0,
   "metadata": {
    "colab": {},
    "colab_type": "code",
    "id": "ht3coTH7kNsf"
   },
   "outputs": [],
   "source": [
    "t2 = pd.read_csv('train_missing_replaced.csv')"
   ]
  },
  {
   "cell_type": "code",
   "execution_count": 0,
   "metadata": {
    "colab": {
     "base_uri": "https://localhost:8080/",
     "height": 52
    },
    "colab_type": "code",
    "executionInfo": {
     "elapsed": 18101,
     "status": "ok",
     "timestamp": 1544379806523,
     "user": {
      "displayName": "Chen Siao",
      "photoUrl": "",
      "userId": "10255725406936450127"
     },
     "user_tz": 300
    },
    "id": "cERmyPnWWfkL",
    "outputId": "dd352e0f-48e8-4648-d18f-f90df03a462a"
   },
   "outputs": [
    {
     "name": "stdout",
     "output_type": "stream",
     "text": [
      "0\n"
     ]
    },
    {
     "data": {
      "text/plain": [
       "(5342477, 19)"
      ]
     },
     "execution_count": 19,
     "metadata": {
      "tags": []
     },
     "output_type": "execute_result"
    }
   ],
   "source": [
    "print(np.isnan(train_complete).sum())\n",
    "\n",
    "t2.shape"
   ]
  },
  {
   "cell_type": "code",
   "execution_count": 0,
   "metadata": {
    "colab": {
     "base_uri": "https://localhost:8080/",
     "height": 222
    },
    "colab_type": "code",
    "executionInfo": {
     "elapsed": 17855,
     "status": "ok",
     "timestamp": 1544379806780,
     "user": {
      "displayName": "Chen Siao",
      "photoUrl": "",
      "userId": "10255725406936450127"
     },
     "user_tz": 300
    },
    "id": "FuZT92xSXaHS",
    "outputId": "8b5af7e1-8352-492a-8d92-a765ffc685c9"
   },
   "outputs": [
    {
     "data": {
      "text/html": [
       "<div>\n",
       "<style scoped>\n",
       "    .dataframe tbody tr th:only-of-type {\n",
       "        vertical-align: middle;\n",
       "    }\n",
       "\n",
       "    .dataframe tbody tr th {\n",
       "        vertical-align: top;\n",
       "    }\n",
       "\n",
       "    .dataframe thead th {\n",
       "        text-align: right;\n",
       "    }\n",
       "</style>\n",
       "<table border=\"1\" class=\"dataframe\">\n",
       "  <thead>\n",
       "    <tr style=\"text-align: right;\">\n",
       "      <th></th>\n",
       "      <th>caller_sum_6</th>\n",
       "      <th>record_sum_6</th>\n",
       "      <th>time_sum_6</th>\n",
       "      <th>caller_sum_4</th>\n",
       "      <th>record_sum_4</th>\n",
       "      <th>time_sum_4</th>\n",
       "      <th>caller_sum_5</th>\n",
       "      <th>record_sum_5</th>\n",
       "      <th>time_sum_5</th>\n",
       "      <th>brand</th>\n",
       "      <th>city_flag</th>\n",
       "      <th>day</th>\n",
       "      <th>caller_sum_45</th>\n",
       "      <th>caller_sum_456</th>\n",
       "      <th>record_sum_45</th>\n",
       "      <th>record_sum_456</th>\n",
       "      <th>time_sum_45</th>\n",
       "      <th>time_sum_456</th>\n",
       "      <th>flag</th>\n",
       "    </tr>\n",
       "  </thead>\n",
       "  <tbody>\n",
       "    <tr>\n",
       "      <th>0</th>\n",
       "      <td>5.0</td>\n",
       "      <td>6.0</td>\n",
       "      <td>123.0</td>\n",
       "      <td>28.0</td>\n",
       "      <td>86.0</td>\n",
       "      <td>1423.0</td>\n",
       "      <td>32.19331</td>\n",
       "      <td>97.763715</td>\n",
       "      <td>431.363511</td>\n",
       "      <td>3.0</td>\n",
       "      <td>0.0</td>\n",
       "      <td>536.0</td>\n",
       "      <td>62.285086</td>\n",
       "      <td>93.339195</td>\n",
       "      <td>194.715076</td>\n",
       "      <td>287.692221</td>\n",
       "      <td>860.562899</td>\n",
       "      <td>6.518331e+08</td>\n",
       "      <td>1.0</td>\n",
       "    </tr>\n",
       "    <tr>\n",
       "      <th>1</th>\n",
       "      <td>198.0</td>\n",
       "      <td>535.0</td>\n",
       "      <td>2295.0</td>\n",
       "      <td>197.0</td>\n",
       "      <td>572.0</td>\n",
       "      <td>2666.0</td>\n",
       "      <td>224.00000</td>\n",
       "      <td>638.000000</td>\n",
       "      <td>2678.000000</td>\n",
       "      <td>1.0</td>\n",
       "      <td>1.0</td>\n",
       "      <td>863.0</td>\n",
       "      <td>421.000000</td>\n",
       "      <td>619.000000</td>\n",
       "      <td>1210.000000</td>\n",
       "      <td>1745.000000</td>\n",
       "      <td>5344.000000</td>\n",
       "      <td>7.639000e+03</td>\n",
       "      <td>0.0</td>\n",
       "    </tr>\n",
       "    <tr>\n",
       "      <th>2</th>\n",
       "      <td>8.0</td>\n",
       "      <td>8.0</td>\n",
       "      <td>14.0</td>\n",
       "      <td>68.0</td>\n",
       "      <td>147.0</td>\n",
       "      <td>495.0</td>\n",
       "      <td>1.00000</td>\n",
       "      <td>1.000000</td>\n",
       "      <td>1.000000</td>\n",
       "      <td>1.0</td>\n",
       "      <td>1.0</td>\n",
       "      <td>1809.0</td>\n",
       "      <td>69.000000</td>\n",
       "      <td>77.000000</td>\n",
       "      <td>148.000000</td>\n",
       "      <td>156.000000</td>\n",
       "      <td>496.000000</td>\n",
       "      <td>5.100000e+02</td>\n",
       "      <td>1.0</td>\n",
       "    </tr>\n",
       "    <tr>\n",
       "      <th>3</th>\n",
       "      <td>26.0</td>\n",
       "      <td>74.0</td>\n",
       "      <td>291.0</td>\n",
       "      <td>25.0</td>\n",
       "      <td>100.0</td>\n",
       "      <td>403.0</td>\n",
       "      <td>29.00000</td>\n",
       "      <td>87.000000</td>\n",
       "      <td>340.000000</td>\n",
       "      <td>2.0</td>\n",
       "      <td>1.0</td>\n",
       "      <td>2551.0</td>\n",
       "      <td>54.000000</td>\n",
       "      <td>80.000000</td>\n",
       "      <td>187.000000</td>\n",
       "      <td>261.000000</td>\n",
       "      <td>743.000000</td>\n",
       "      <td>1.034000e+03</td>\n",
       "      <td>0.0</td>\n",
       "    </tr>\n",
       "    <tr>\n",
       "      <th>4</th>\n",
       "      <td>49.0</td>\n",
       "      <td>213.0</td>\n",
       "      <td>797.0</td>\n",
       "      <td>50.0</td>\n",
       "      <td>210.0</td>\n",
       "      <td>771.0</td>\n",
       "      <td>56.00000</td>\n",
       "      <td>245.000000</td>\n",
       "      <td>1026.000000</td>\n",
       "      <td>3.0</td>\n",
       "      <td>1.0</td>\n",
       "      <td>91.0</td>\n",
       "      <td>106.000000</td>\n",
       "      <td>155.000000</td>\n",
       "      <td>455.000000</td>\n",
       "      <td>668.000000</td>\n",
       "      <td>1797.000000</td>\n",
       "      <td>2.594000e+03</td>\n",
       "      <td>0.0</td>\n",
       "    </tr>\n",
       "  </tbody>\n",
       "</table>\n",
       "</div>"
      ],
      "text/plain": [
       "   caller_sum_6  record_sum_6  time_sum_6  caller_sum_4  record_sum_4  \\\n",
       "0           5.0           6.0       123.0          28.0          86.0   \n",
       "1         198.0         535.0      2295.0         197.0         572.0   \n",
       "2           8.0           8.0        14.0          68.0         147.0   \n",
       "3          26.0          74.0       291.0          25.0         100.0   \n",
       "4          49.0         213.0       797.0          50.0         210.0   \n",
       "\n",
       "   time_sum_4  caller_sum_5  record_sum_5   time_sum_5  brand  city_flag  \\\n",
       "0      1423.0      32.19331     97.763715   431.363511    3.0        0.0   \n",
       "1      2666.0     224.00000    638.000000  2678.000000    1.0        1.0   \n",
       "2       495.0       1.00000      1.000000     1.000000    1.0        1.0   \n",
       "3       403.0      29.00000     87.000000   340.000000    2.0        1.0   \n",
       "4       771.0      56.00000    245.000000  1026.000000    3.0        1.0   \n",
       "\n",
       "      day  caller_sum_45  caller_sum_456  record_sum_45  record_sum_456  \\\n",
       "0   536.0      62.285086       93.339195     194.715076      287.692221   \n",
       "1   863.0     421.000000      619.000000    1210.000000     1745.000000   \n",
       "2  1809.0      69.000000       77.000000     148.000000      156.000000   \n",
       "3  2551.0      54.000000       80.000000     187.000000      261.000000   \n",
       "4    91.0     106.000000      155.000000     455.000000      668.000000   \n",
       "\n",
       "   time_sum_45  time_sum_456  flag  \n",
       "0   860.562899  6.518331e+08   1.0  \n",
       "1  5344.000000  7.639000e+03   0.0  \n",
       "2   496.000000  5.100000e+02   1.0  \n",
       "3   743.000000  1.034000e+03   0.0  \n",
       "4  1797.000000  2.594000e+03   0.0  "
      ]
     },
     "execution_count": 20,
     "metadata": {
      "tags": []
     },
     "output_type": "execute_result"
    }
   ],
   "source": [
    "t2.head()"
   ]
  }
 ],
 "metadata": {
  "accelerator": "GPU",
  "colab": {
   "collapsed_sections": [],
   "name": "impute data with mean.ipynb",
   "provenance": [],
   "version": "0.3.2"
  },
  "kernelspec": {
   "display_name": "Python 3",
   "language": "python",
   "name": "python3"
  },
  "language_info": {
   "codemirror_mode": {
    "name": "ipython",
    "version": 3
   },
   "file_extension": ".py",
   "mimetype": "text/x-python",
   "name": "python",
   "nbconvert_exporter": "python",
   "pygments_lexer": "ipython3",
   "version": "3.7.3"
  }
 },
 "nbformat": 4,
 "nbformat_minor": 1
}
