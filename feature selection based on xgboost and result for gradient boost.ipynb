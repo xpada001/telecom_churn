{
 "cells": [
  {
   "cell_type": "code",
   "execution_count": 0,
   "metadata": {
    "colab": {},
    "colab_type": "code",
    "id": "TlaZUO_JwY8H"
   },
   "outputs": [],
   "source": [
    "from sklearn.model_selection import train_test_split\n",
    "from sklearn.ensemble import GradientBoostingClassifier\n",
    "from sklearn.metrics import confusion_matrix\n",
    "from sklearn.metrics import accuracy_score\n",
    "import pandas as pd"
   ]
  },
  {
   "cell_type": "code",
   "execution_count": 0,
   "metadata": {
    "colab": {
     "base_uri": "https://localhost:8080/",
     "height": 54
    },
    "colab_type": "code",
    "executionInfo": {
     "elapsed": 196,
     "status": "ok",
     "timestamp": 1544316789035,
     "user": {
      "displayName": "苏荣荣",
      "photoUrl": "",
      "userId": "13500401361969202753"
     },
     "user_tz": 300
    },
    "id": "excW117fF8VI",
    "outputId": "5fbc3751-339e-45ef-f95b-b075958ac486"
   },
   "outputs": [
    {
     "name": "stdout",
     "output_type": "stream",
     "text": [
      "Drive already mounted at /Downloads/; to attempt to forcibly remount, call drive.mount(\"/Downloads/\", force_remount=True).\n"
     ]
    }
   ],
   "source": [
    "from google.colab import drive\n",
    "drive.mount('/Downloads/')"
   ]
  },
  {
   "cell_type": "code",
   "execution_count": 0,
   "metadata": {
    "colab": {},
    "colab_type": "code",
    "id": "px4gWQGtGXY6"
   },
   "outputs": [],
   "source": [
    "train = pd.read_csv('train_no_missing_outlier.csv')"
   ]
  },
  {
   "cell_type": "code",
   "execution_count": 0,
   "metadata": {
    "colab": {},
    "colab_type": "code",
    "id": "d37MpIIUIGFE"
   },
   "outputs": [],
   "source": [
    "del train['id']\n",
    "del train['open_date']"
   ]
  },
  {
   "cell_type": "code",
   "execution_count": 0,
   "metadata": {
    "colab": {},
    "colab_type": "code",
    "id": "qW4ZpViHMYfN"
   },
   "outputs": [],
   "source": [
    "target='flag'\n",
    "train['flag'].value_counts()\n",
    "x_columns=[x for x in train.columns if x not in [target] ]\n",
    "X_tot=train[x_columns]\n",
    "X=X_tot.drop(columns=['caller_sum_45','caller_sum_456','record_sum_45','record_sum_456','time_sum_45','time_sum_456'])\n",
    "y=train['flag']"
   ]
  },
  {
   "cell_type": "code",
   "execution_count": 0,
   "metadata": {
    "colab": {
     "base_uri": "https://localhost:8080/",
     "height": 85
    },
    "colab_type": "code",
    "executionInfo": {
     "elapsed": 1952047,
     "status": "ok",
     "timestamp": 1544307980611,
     "user": {
      "displayName": "苏荣荣",
      "photoUrl": "",
      "userId": "13500401361969202753"
     },
     "user_tz": 300
    },
    "id": "JUuSxqbOzymZ",
    "outputId": "4a865560-970a-4ba8-ea5b-5736a6b2d474"
   },
   "outputs": [
    {
     "name": "stdout",
     "output_type": "stream",
     "text": [
      "Accuracy for the GradientBoosting model: 0.8774188351872007\n",
      "Confusion matrix for the GradientBoosting model:\n",
      "[[850919  22296]\n",
      " [102498  42339]]\n"
     ]
    }
   ],
   "source": [
    "print('Accuracy for the GradientBoosting model:',accuracy_score(y_test, y_pred))\n",
    "print('Confusion matrix for the GradientBoosting model:')\n",
    "print(confusion_matrix(y_test, y_pred))"
   ]
  },
  {
   "cell_type": "code",
   "execution_count": 0,
   "metadata": {
    "colab": {
     "base_uri": "https://localhost:8080/",
     "height": 238
    },
    "colab_type": "code",
    "executionInfo": {
     "elapsed": 733456,
     "status": "ok",
     "timestamp": 1544316272883,
     "user": {
      "displayName": "苏荣荣",
      "photoUrl": "",
      "userId": "13500401361969202753"
     },
     "user_tz": 300
    },
    "id": "q8TKRgF6Ma-l",
    "outputId": "fd4806bb-4709-430b-a2a6-5b015a06cc80"
   },
   "outputs": [
    {
     "name": "stdout",
     "output_type": "stream",
     "text": [
      "              Importance\n",
      "day             0.201429\n",
      "record_sum_5    0.155714\n",
      "caller_sum_5    0.098571\n",
      "record_sum_6    0.091429\n",
      "record_sum_4    0.090000\n",
      "brand           0.084286\n",
      "time_sum_5      0.075714\n",
      "time_sum_4      0.070000\n",
      "caller_sum_4    0.064286\n",
      "city_flag       0.035714\n",
      "time_sum_6      0.020000\n",
      "caller_sum_6    0.012857\n"
     ]
    }
   ],
   "source": [
    "from xgboost import XGBRegressor\n",
    "xgb = XGBRegressor()\n",
    "\n",
    "xgb.fit(X, y)\n",
    "imp = pd.DataFrame(xgb.feature_importances_ ,columns = ['Importance'],index = X.columns)\n",
    "imp = imp.sort_values(['Importance'], ascending = False)\n",
    "\n",
    "print(imp)"
   ]
  },
  {
   "cell_type": "code",
   "execution_count": 0,
   "metadata": {
    "colab": {},
    "colab_type": "code",
    "id": "SDDTs5VlMe7H"
   },
   "outputs": [],
   "source": [
    "xx=['day','record_sum_5','caller_sum_5','record_sum_6','record_sum_4', 'brand','time_sum_5','time_sum_4','caller_sum_4','city_flag']\n",
    "XX=train[xx]"
   ]
  },
  {
   "cell_type": "code",
   "execution_count": 0,
   "metadata": {
    "colab": {},
    "colab_type": "code",
    "id": "8KkryMudPvxk"
   },
   "outputs": [],
   "source": [
    "\n",
    "XX_train, XX_test, yy_train, yy_test = train_test_split(XX, y, test_size=0.2)\n",
    "model2=GradientBoostingClassifier()\n",
    "model2.fit(XX_train,yy_train)\n",
    "yy_pred = model2.predict(XX_test)\n"
   ]
  },
  {
   "cell_type": "code",
   "execution_count": 0,
   "metadata": {
    "colab": {},
    "colab_type": "code",
    "id": "a3SgMOUG0btH"
   },
   "outputs": [],
   "source": [
    "print('Accuracy for the GradientBoosting model(with feature selection):',accuracy_score(yy_test, yy_pred))\n",
    "print('Confusion matrix for the GradientBoosting model(with feature selection):')\n",
    "print(confusion_matrix(yy_test, yy_pred))"
   ]
  },
  {
   "cell_type": "code",
   "execution_count": 0,
   "metadata": {
    "colab": {
     "base_uri": "https://localhost:8080/",
     "height": 34
    },
    "colab_type": "code",
    "executionInfo": {
     "elapsed": 1677073,
     "status": "ok",
     "timestamp": 1544299420433,
     "user": {
      "displayName": "苏荣荣",
      "photoUrl": "",
      "userId": "13500401361969202753"
     },
     "user_tz": 300
    },
    "id": "PkQHtL1KPxM7",
    "outputId": "a37f501a-e9e6-4b7f-f467-dd7de67076e4"
   },
   "outputs": [
    {
     "data": {
      "text/plain": [
       "0.633881354356429"
      ]
     },
     "execution_count": 12,
     "metadata": {
      "tags": []
     },
     "output_type": "execute_result"
    }
   ],
   "source": [
    "from sklearn.model_selection import train_test_split\n",
    "X_train, X_test, y_train, y_test = train_test_split(X, y, test_size=0.2)\n",
    "from sklearn.ensemble import GradientBoostingClassifier\n",
    "model=GradientBoostingClassifier()\n",
    "model.fit(X_train,y_train)\n",
    "y_pred = model.predict(X_test)\n",
    "from sklearn.metrics import roc_curve, auc\n",
    "false_positive_rate, true_positive_rate, thresholds = roc_curve(y_test, y_pred)\n",
    "roc_auc = auc(false_positive_rate, true_positive_rate)\n",
    "roc_auc"
   ]
  },
  {
   "cell_type": "code",
   "execution_count": 0,
   "metadata": {
    "colab": {
     "base_uri": "https://localhost:8080/",
     "height": 34
    },
    "colab_type": "code",
    "executionInfo": {
     "elapsed": 1242163,
     "status": "ok",
     "timestamp": 1544303996647,
     "user": {
      "displayName": "苏荣荣",
      "photoUrl": "",
      "userId": "13500401361969202753"
     },
     "user_tz": 300
    },
    "id": "XPpPualpUYOK",
    "outputId": "d4852d56-48ce-4ced-b75b-fd1a9f405320"
   },
   "outputs": [
    {
     "data": {
      "text/plain": [
       "0.6329979995732007"
      ]
     },
     "execution_count": 13,
     "metadata": {
      "tags": []
     },
     "output_type": "execute_result"
    }
   ],
   "source": [
    "xx=['day','record_sum_5','caller_sum_5','record_sum_6','record_sum_4', 'brand','time_sum_5','time_sum_4','caller_sum_4']\n",
    "X=train[xx]\n",
    "X_train, X_test, y_train, y_test = train_test_split(X, y, test_size=0.2)\n",
    "model=GradientBoostingClassifier()\n",
    "model.fit(X_train,y_train)\n",
    "y_pred = model.predict(X_test)\n",
    "false_positive_rate, true_positive_rate, thresholds = roc_curve(y_test, y_pred)\n",
    "roc_auc = auc(false_positive_rate, true_positive_rate)\n",
    "roc_auc"
   ]
  },
  {
   "cell_type": "code",
   "execution_count": 0,
   "metadata": {
    "colab": {
     "base_uri": "https://localhost:8080/",
     "height": 34
    },
    "colab_type": "code",
    "executionInfo": {
     "elapsed": 285,
     "status": "ok",
     "timestamp": 1544304071926,
     "user": {
      "displayName": "苏荣荣",
      "photoUrl": "",
      "userId": "13500401361969202753"
     },
     "user_tz": 300
    },
    "id": "w0Cy1HN_nKlm",
    "outputId": "5fecf358-eb18-4057-b118-381c5e063893"
   },
   "outputs": [
    {
     "data": {
      "text/plain": [
       "0.8777498595356622"
      ]
     },
     "execution_count": 15,
     "metadata": {
      "tags": []
     },
     "output_type": "execute_result"
    }
   ],
   "source": [
    "from sklearn.metrics import accuracy_score\n",
    "accuracy_score(y_test, y_pred)"
   ]
  },
  {
   "cell_type": "code",
   "execution_count": 0,
   "metadata": {
    "colab": {},
    "colab_type": "code",
    "id": "4Uvk9-s6sc-8"
   },
   "outputs": [],
   "source": []
  }
 ],
 "metadata": {
  "accelerator": "GPU",
  "colab": {
   "name": "perfect data feature selection for GDBT.ipynb",
   "provenance": [],
   "version": "0.3.2"
  },
  "kernelspec": {
   "display_name": "Python 3",
   "language": "python",
   "name": "python3"
  },
  "language_info": {
   "codemirror_mode": {
    "name": "ipython",
    "version": 3
   },
   "file_extension": ".py",
   "mimetype": "text/x-python",
   "name": "python",
   "nbconvert_exporter": "python",
   "pygments_lexer": "ipython3",
   "version": "3.7.3"
  }
 },
 "nbformat": 4,
 "nbformat_minor": 1
}
