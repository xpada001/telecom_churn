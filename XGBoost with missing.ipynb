{
 "cells": [
  {
   "cell_type": "code",
   "execution_count": 0,
   "metadata": {
    "colab": {},
    "colab_type": "code",
    "id": "7Zfc6OyCPS59"
   },
   "outputs": [],
   "source": [
    "import pandas as pd\n",
    "import numpy as np\n",
    "import csv\n",
    "import os\n",
    "import seaborn as sns\n",
    "import matplotlib.pyplot as plt \n",
    "import sklearn as sk\n",
    "from google.colab import drive\n",
    "from xgboost import XGBClassifier, XGBRegressor\n",
    "from sklearn.datasets import load_iris\n",
    "from sklearn import metrics\n",
    "from sklearn.linear_model import LogisticRegression\n",
    "from sklearn.model_selection import train_test_split, KFold, cross_val_score, GridSearchCV\n",
    "from sklearn.decomposition import PCA\n",
    "from sklearn.metrics import roc_auc_score, roc_curve, confusion_matrix, confusion_matrix, mean_squared_error\n",
    "from timeit import default_timer as timer"
   ]
  },
  {
   "cell_type": "code",
   "execution_count": 0,
   "metadata": {
    "colab": {
     "base_uri": "https://localhost:8080/",
     "height": 34
    },
    "colab_type": "code",
    "executionInfo": {
     "elapsed": 665,
     "status": "ok",
     "timestamp": 1544689247199,
     "user": {
      "displayName": "Chen Siao",
      "photoUrl": "",
      "userId": "10255725406936450127"
     },
     "user_tz": 300
    },
    "id": "TvSiCSSUPX3Z",
    "outputId": "fb739ba3-ab27-4ed4-e5e5-e2cb469acbd6"
   },
   "outputs": [
    {
     "name": "stdout",
     "output_type": "stream",
     "text": [
      "Drive already mounted at /Downloads/; to attempt to forcibly remount, call drive.mount(\"/Downloads/\", force_remount=True).\n"
     ]
    }
   ],
   "source": [
    "drive.mount('/Downloads/')"
   ]
  },
  {
   "cell_type": "code",
   "execution_count": 0,
   "metadata": {
    "colab": {},
    "colab_type": "code",
    "id": "YPSGUMHNUSZe"
   },
   "outputs": [],
   "source": [
    "train = pd.read_csv('train_no_outlier.csv')"
   ]
  },
  {
   "cell_type": "code",
   "execution_count": 0,
   "metadata": {
    "colab": {
     "base_uri": "https://localhost:8080/",
     "height": 322
    },
    "colab_type": "code",
    "executionInfo": {
     "elapsed": 26737,
     "status": "ok",
     "timestamp": 1544689273287,
     "user": {
      "displayName": "Chen Siao",
      "photoUrl": "",
      "userId": "10255725406936450127"
     },
     "user_tz": 300
    },
    "id": "Xvo40pGOUUJZ",
    "outputId": "44dd1938-1faf-4099-d7d1-2f7564feb1b6"
   },
   "outputs": [
    {
     "data": {
      "text/html": [
       "<div>\n",
       "<style scoped>\n",
       "    .dataframe tbody tr th:only-of-type {\n",
       "        vertical-align: middle;\n",
       "    }\n",
       "\n",
       "    .dataframe tbody tr th {\n",
       "        vertical-align: top;\n",
       "    }\n",
       "\n",
       "    .dataframe thead th {\n",
       "        text-align: right;\n",
       "    }\n",
       "</style>\n",
       "<table border=\"1\" class=\"dataframe\">\n",
       "  <thead>\n",
       "    <tr style=\"text-align: right;\">\n",
       "      <th></th>\n",
       "      <th>id</th>\n",
       "      <th>caller_sum_6</th>\n",
       "      <th>record_sum_6</th>\n",
       "      <th>time_sum_6</th>\n",
       "      <th>caller_sum_4</th>\n",
       "      <th>record_sum_4</th>\n",
       "      <th>time_sum_4</th>\n",
       "      <th>caller_sum_5</th>\n",
       "      <th>record_sum_5</th>\n",
       "      <th>time_sum_5</th>\n",
       "      <th>brand</th>\n",
       "      <th>city_flag</th>\n",
       "      <th>day</th>\n",
       "      <th>caller_sum_45</th>\n",
       "      <th>caller_sum_456</th>\n",
       "      <th>record_sum_45</th>\n",
       "      <th>record_sum_456</th>\n",
       "      <th>time_sum_45</th>\n",
       "      <th>time_sum_456</th>\n",
       "      <th>flag</th>\n",
       "    </tr>\n",
       "  </thead>\n",
       "  <tbody>\n",
       "    <tr>\n",
       "      <th>count</th>\n",
       "      <td>5.342453e+06</td>\n",
       "      <td>5.202918e+06</td>\n",
       "      <td>5.202918e+06</td>\n",
       "      <td>5.202918e+06</td>\n",
       "      <td>5.342453e+06</td>\n",
       "      <td>5.342453e+06</td>\n",
       "      <td>5.342453e+06</td>\n",
       "      <td>5.111871e+06</td>\n",
       "      <td>5.111871e+06</td>\n",
       "      <td>5.111871e+06</td>\n",
       "      <td>5.342453e+06</td>\n",
       "      <td>5.338391e+06</td>\n",
       "      <td>5.342439e+06</td>\n",
       "      <td>5.111871e+06</td>\n",
       "      <td>5.093941e+06</td>\n",
       "      <td>5.111871e+06</td>\n",
       "      <td>5.093941e+06</td>\n",
       "      <td>5.111871e+06</td>\n",
       "      <td>5.093941e+06</td>\n",
       "      <td>5.342453e+06</td>\n",
       "    </tr>\n",
       "    <tr>\n",
       "      <th>mean</th>\n",
       "      <td>2.644639e+07</td>\n",
       "      <td>3.027962e+01</td>\n",
       "      <td>9.050052e+01</td>\n",
       "      <td>3.977738e+02</td>\n",
       "      <td>2.916872e+01</td>\n",
       "      <td>9.360663e+01</td>\n",
       "      <td>4.151043e+02</td>\n",
       "      <td>3.219321e+01</td>\n",
       "      <td>9.776337e+01</td>\n",
       "      <td>4.313617e+02</td>\n",
       "      <td>2.217962e+00</td>\n",
       "      <td>6.306114e-01</td>\n",
       "      <td>1.412181e+03</td>\n",
       "      <td>6.228491e+01</td>\n",
       "      <td>9.333892e+01</td>\n",
       "      <td>1.947144e+02</td>\n",
       "      <td>2.876912e+02</td>\n",
       "      <td>8.605591e+02</td>\n",
       "      <td>1.269172e+03</td>\n",
       "      <td>1.594943e-01</td>\n",
       "    </tr>\n",
       "    <tr>\n",
       "      <th>std</th>\n",
       "      <td>1.389389e+07</td>\n",
       "      <td>3.564153e+01</td>\n",
       "      <td>9.710813e+01</td>\n",
       "      <td>4.544947e+02</td>\n",
       "      <td>3.677139e+01</td>\n",
       "      <td>1.031859e+02</td>\n",
       "      <td>4.873672e+02</td>\n",
       "      <td>3.804231e+01</td>\n",
       "      <td>1.033142e+02</td>\n",
       "      <td>4.887626e+02</td>\n",
       "      <td>6.446771e-01</td>\n",
       "      <td>4.832529e-01</td>\n",
       "      <td>1.250285e+03</td>\n",
       "      <td>7.280402e+01</td>\n",
       "      <td>1.082334e+02</td>\n",
       "      <td>2.030889e+02</td>\n",
       "      <td>2.995577e+02</td>\n",
       "      <td>9.461679e+02</td>\n",
       "      <td>1.392849e+03</td>\n",
       "      <td>3.661365e-01</td>\n",
       "    </tr>\n",
       "    <tr>\n",
       "      <th>min</th>\n",
       "      <td>5.130834e+06</td>\n",
       "      <td>1.000000e+00</td>\n",
       "      <td>1.000000e+00</td>\n",
       "      <td>0.000000e+00</td>\n",
       "      <td>1.000000e+00</td>\n",
       "      <td>1.000000e+00</td>\n",
       "      <td>0.000000e+00</td>\n",
       "      <td>1.000000e+00</td>\n",
       "      <td>1.000000e+00</td>\n",
       "      <td>0.000000e+00</td>\n",
       "      <td>1.000000e+00</td>\n",
       "      <td>-1.000000e+00</td>\n",
       "      <td>6.100000e+01</td>\n",
       "      <td>2.000000e+00</td>\n",
       "      <td>3.000000e+00</td>\n",
       "      <td>2.000000e+00</td>\n",
       "      <td>3.000000e+00</td>\n",
       "      <td>0.000000e+00</td>\n",
       "      <td>0.000000e+00</td>\n",
       "      <td>0.000000e+00</td>\n",
       "    </tr>\n",
       "    <tr>\n",
       "      <th>25%</th>\n",
       "      <td>1.287921e+07</td>\n",
       "      <td>1.100000e+01</td>\n",
       "      <td>3.000000e+01</td>\n",
       "      <td>9.900000e+01</td>\n",
       "      <td>1.000000e+01</td>\n",
       "      <td>2.900000e+01</td>\n",
       "      <td>9.600000e+01</td>\n",
       "      <td>1.200000e+01</td>\n",
       "      <td>3.300000e+01</td>\n",
       "      <td>1.110000e+02</td>\n",
       "      <td>2.000000e+00</td>\n",
       "      <td>0.000000e+00</td>\n",
       "      <td>3.230000e+02</td>\n",
       "      <td>2.300000e+01</td>\n",
       "      <td>3.500000e+01</td>\n",
       "      <td>6.800000e+01</td>\n",
       "      <td>1.010000e+02</td>\n",
       "      <td>2.360000e+02</td>\n",
       "      <td>3.510000e+02</td>\n",
       "      <td>0.000000e+00</td>\n",
       "    </tr>\n",
       "    <tr>\n",
       "      <th>50%</th>\n",
       "      <td>2.426377e+07</td>\n",
       "      <td>2.100000e+01</td>\n",
       "      <td>6.400000e+01</td>\n",
       "      <td>2.540000e+02</td>\n",
       "      <td>2.000000e+01</td>\n",
       "      <td>6.600000e+01</td>\n",
       "      <td>2.580000e+02</td>\n",
       "      <td>2.200000e+01</td>\n",
       "      <td>7.000000e+01</td>\n",
       "      <td>2.770000e+02</td>\n",
       "      <td>2.000000e+00</td>\n",
       "      <td>1.000000e+00</td>\n",
       "      <td>1.055000e+03</td>\n",
       "      <td>4.300000e+01</td>\n",
       "      <td>6.500000e+01</td>\n",
       "      <td>1.400000e+02</td>\n",
       "      <td>2.060000e+02</td>\n",
       "      <td>5.620000e+02</td>\n",
       "      <td>8.310000e+02</td>\n",
       "      <td>0.000000e+00</td>\n",
       "    </tr>\n",
       "    <tr>\n",
       "      <th>75%</th>\n",
       "      <td>3.925556e+07</td>\n",
       "      <td>3.800000e+01</td>\n",
       "      <td>1.170000e+02</td>\n",
       "      <td>5.310000e+02</td>\n",
       "      <td>3.600000e+01</td>\n",
       "      <td>1.210000e+02</td>\n",
       "      <td>5.550000e+02</td>\n",
       "      <td>4.000000e+01</td>\n",
       "      <td>1.260000e+02</td>\n",
       "      <td>5.750000e+02</td>\n",
       "      <td>3.000000e+00</td>\n",
       "      <td>1.000000e+00</td>\n",
       "      <td>2.241000e+03</td>\n",
       "      <td>7.700000e+01</td>\n",
       "      <td>1.150000e+02</td>\n",
       "      <td>2.490000e+02</td>\n",
       "      <td>3.680000e+02</td>\n",
       "      <td>1.147000e+03</td>\n",
       "      <td>1.690000e+03</td>\n",
       "      <td>0.000000e+00</td>\n",
       "    </tr>\n",
       "    <tr>\n",
       "      <th>max</th>\n",
       "      <td>4.882184e+07</td>\n",
       "      <td>6.676000e+03</td>\n",
       "      <td>7.083000e+03</td>\n",
       "      <td>3.037500e+04</td>\n",
       "      <td>8.350000e+03</td>\n",
       "      <td>1.095400e+04</td>\n",
       "      <td>2.171200e+04</td>\n",
       "      <td>9.001000e+03</td>\n",
       "      <td>9.208000e+03</td>\n",
       "      <td>2.983200e+04</td>\n",
       "      <td>3.000000e+00</td>\n",
       "      <td>1.000000e+00</td>\n",
       "      <td>8.946000e+03</td>\n",
       "      <td>1.735100e+04</td>\n",
       "      <td>2.402700e+04</td>\n",
       "      <td>1.915500e+04</td>\n",
       "      <td>2.623800e+04</td>\n",
       "      <td>4.061700e+04</td>\n",
       "      <td>5.802900e+04</td>\n",
       "      <td>1.000000e+00</td>\n",
       "    </tr>\n",
       "  </tbody>\n",
       "</table>\n",
       "</div>"
      ],
      "text/plain": [
       "                 id  caller_sum_6  record_sum_6    time_sum_6  caller_sum_4  \\\n",
       "count  5.342453e+06  5.202918e+06  5.202918e+06  5.202918e+06  5.342453e+06   \n",
       "mean   2.644639e+07  3.027962e+01  9.050052e+01  3.977738e+02  2.916872e+01   \n",
       "std    1.389389e+07  3.564153e+01  9.710813e+01  4.544947e+02  3.677139e+01   \n",
       "min    5.130834e+06  1.000000e+00  1.000000e+00  0.000000e+00  1.000000e+00   \n",
       "25%    1.287921e+07  1.100000e+01  3.000000e+01  9.900000e+01  1.000000e+01   \n",
       "50%    2.426377e+07  2.100000e+01  6.400000e+01  2.540000e+02  2.000000e+01   \n",
       "75%    3.925556e+07  3.800000e+01  1.170000e+02  5.310000e+02  3.600000e+01   \n",
       "max    4.882184e+07  6.676000e+03  7.083000e+03  3.037500e+04  8.350000e+03   \n",
       "\n",
       "       record_sum_4    time_sum_4  caller_sum_5  record_sum_5    time_sum_5  \\\n",
       "count  5.342453e+06  5.342453e+06  5.111871e+06  5.111871e+06  5.111871e+06   \n",
       "mean   9.360663e+01  4.151043e+02  3.219321e+01  9.776337e+01  4.313617e+02   \n",
       "std    1.031859e+02  4.873672e+02  3.804231e+01  1.033142e+02  4.887626e+02   \n",
       "min    1.000000e+00  0.000000e+00  1.000000e+00  1.000000e+00  0.000000e+00   \n",
       "25%    2.900000e+01  9.600000e+01  1.200000e+01  3.300000e+01  1.110000e+02   \n",
       "50%    6.600000e+01  2.580000e+02  2.200000e+01  7.000000e+01  2.770000e+02   \n",
       "75%    1.210000e+02  5.550000e+02  4.000000e+01  1.260000e+02  5.750000e+02   \n",
       "max    1.095400e+04  2.171200e+04  9.001000e+03  9.208000e+03  2.983200e+04   \n",
       "\n",
       "              brand     city_flag           day  caller_sum_45  \\\n",
       "count  5.342453e+06  5.338391e+06  5.342439e+06   5.111871e+06   \n",
       "mean   2.217962e+00  6.306114e-01  1.412181e+03   6.228491e+01   \n",
       "std    6.446771e-01  4.832529e-01  1.250285e+03   7.280402e+01   \n",
       "min    1.000000e+00 -1.000000e+00  6.100000e+01   2.000000e+00   \n",
       "25%    2.000000e+00  0.000000e+00  3.230000e+02   2.300000e+01   \n",
       "50%    2.000000e+00  1.000000e+00  1.055000e+03   4.300000e+01   \n",
       "75%    3.000000e+00  1.000000e+00  2.241000e+03   7.700000e+01   \n",
       "max    3.000000e+00  1.000000e+00  8.946000e+03   1.735100e+04   \n",
       "\n",
       "       caller_sum_456  record_sum_45  record_sum_456   time_sum_45  \\\n",
       "count    5.093941e+06   5.111871e+06    5.093941e+06  5.111871e+06   \n",
       "mean     9.333892e+01   1.947144e+02    2.876912e+02  8.605591e+02   \n",
       "std      1.082334e+02   2.030889e+02    2.995577e+02  9.461679e+02   \n",
       "min      3.000000e+00   2.000000e+00    3.000000e+00  0.000000e+00   \n",
       "25%      3.500000e+01   6.800000e+01    1.010000e+02  2.360000e+02   \n",
       "50%      6.500000e+01   1.400000e+02    2.060000e+02  5.620000e+02   \n",
       "75%      1.150000e+02   2.490000e+02    3.680000e+02  1.147000e+03   \n",
       "max      2.402700e+04   1.915500e+04    2.623800e+04  4.061700e+04   \n",
       "\n",
       "       time_sum_456          flag  \n",
       "count  5.093941e+06  5.342453e+06  \n",
       "mean   1.269172e+03  1.594943e-01  \n",
       "std    1.392849e+03  3.661365e-01  \n",
       "min    0.000000e+00  0.000000e+00  \n",
       "25%    3.510000e+02  0.000000e+00  \n",
       "50%    8.310000e+02  0.000000e+00  \n",
       "75%    1.690000e+03  0.000000e+00  \n",
       "max    5.802900e+04  1.000000e+00  "
      ]
     },
     "execution_count": 4,
     "metadata": {
      "tags": []
     },
     "output_type": "execute_result"
    }
   ],
   "source": [
    "train.describe()"
   ]
  },
  {
   "cell_type": "code",
   "execution_count": 0,
   "metadata": {
    "colab": {
     "base_uri": "https://localhost:8080/",
     "height": 85
    },
    "colab_type": "code",
    "executionInfo": {
     "elapsed": 464700,
     "status": "ok",
     "timestamp": 1544689711258,
     "user": {
      "displayName": "Chen Siao",
      "photoUrl": "",
      "userId": "10255725406936450127"
     },
     "user_tz": 300
    },
    "id": "CQN09pTbPZIo",
    "outputId": "d920fef5-8a61-4ff4-f8b0-6194d25fe10e"
   },
   "outputs": [
    {
     "name": "stdout",
     "output_type": "stream",
     "text": [
      "('time to run the model: ', 431.50917196273804)\n",
      "(' * Accuracy score for the model: ', 0.8079852801754999)\n",
      "(' * Confusion matrix for the model: ', array([[746698, 151493],\n",
      "       [ 53673, 116627]]))\n"
     ]
    }
   ],
   "source": [
    "os.environ['KMP_DUPLICATE_LIB_OK']='True'\n",
    "\n",
    "# splitting X and Y from train dataset\n",
    "X_train = np.array(train.drop(['id','open_date', 'caller_sum_45', 'caller_sum_456',\n",
    "                              'record_sum_45', 'record_sum_456', 'time_sum_45', 'time_sum_456', 'flag'], axis = 1))\n",
    "Y_train = np.array(train['flag'])\n",
    "\n",
    "X_train, X_test, y_train, y_test = train_test_split(X_train, Y_train, test_size=0.2, random_state=0)\n",
    "\n",
    "weight2 = 0.8\n",
    "weight1 = 0.2\n",
    "\n",
    "start = timer()\n",
    "xgb_model = XGBClassifier(scale_pos_weight = weight2/weight1)\n",
    "xgb_model.fit(X_train, y_train)\n",
    "\n",
    "y_pred = xgb_model.predict(X_test)\n",
    "end = timer()\n",
    "\n",
    "print(\"time to run the model: \", end-start)\n",
    "print(\" * Accuracy score for the model: \", xgb_model.score(X_test, y_test))\n",
    "print(\" * Confusion matrix for the model: \", confusion_matrix(y_test, y_pred))"
   ]
  },
  {
   "cell_type": "code",
   "execution_count": 0,
   "metadata": {
    "colab": {
     "base_uri": "https://localhost:8080/",
     "height": 54
    },
    "colab_type": "code",
    "executionInfo": {
     "elapsed": 929,
     "status": "ok",
     "timestamp": 1544693273357,
     "user": {
      "displayName": "Chen Siao",
      "photoUrl": "",
      "userId": "10255725406936450127"
     },
     "user_tz": 300
    },
    "id": "vfLnAKudUXMF",
    "outputId": "0e97a2b8-1928-400b-de2c-56d22538fd5f"
   },
   "outputs": [
    {
     "name": "stdout",
     "output_type": "stream",
     "text": [
      "('the ROC score is:', 0.7580840384619029)\n"
     ]
    }
   ],
   "source": [
    "print('the ROC score is:',roc_auc_score(y_test, y_pred))"
   ]
  }
 ],
 "metadata": {
  "accelerator": "GPU",
  "colab": {
   "collapsed_sections": [],
   "name": "XGBoost with missing.ipynb",
   "provenance": [],
   "version": "0.3.2"
  },
  "kernelspec": {
   "display_name": "Python 3",
   "language": "python",
   "name": "python3"
  },
  "language_info": {
   "codemirror_mode": {
    "name": "ipython",
    "version": 3
   },
   "file_extension": ".py",
   "mimetype": "text/x-python",
   "name": "python",
   "nbconvert_exporter": "python",
   "pygments_lexer": "ipython3",
   "version": "3.7.3"
  }
 },
 "nbformat": 4,
 "nbformat_minor": 1
}
