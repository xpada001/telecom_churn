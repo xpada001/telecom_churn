{
 "cells": [
  {
   "cell_type": "code",
   "execution_count": 2,
   "metadata": {
    "colab": {
     "base_uri": "https://localhost:8080/",
     "height": 61
    },
    "colab_type": "code",
    "executionInfo": {
     "elapsed": 453,
     "status": "ok",
     "timestamp": 1544693304378,
     "user": {
      "displayName": "Chen Siao",
      "photoUrl": "",
      "userId": "10255725406936450127"
     },
     "user_tz": 300
    },
    "id": "aFY11cdotxz9",
    "outputId": "4ecae903-f9af-4f38-ed59-c5b6983a557c"
   },
   "outputs": [
    {
     "name": "stdout",
     "output_type": "stream",
     "text": [
      "Drive already mounted at /Downloads/; to attempt to forcibly remount, call drive.mount(\"/Downloads/\", force_remount=True).\n"
     ]
    }
   ],
   "source": [
    "from google.colab import drive\n",
    "import pandas as pd\n",
    "import numpy as np\n",
    "import numpy as np\n",
    "from sklearn.ensemble import RandomForestClassifier\n",
    "from sklearn.model_selection import train_test_split\n",
    "from sklearn.metrics import accuracy_score\n",
    "from sklearn.metrics import confusion_matrix\n",
    "from sklearn.metrics import roc_auc_score\n",
    "from timeit import default_timer as timer\n",
    "\n",
    "drive.mount('/Downloads/')"
   ]
  },
  {
   "cell_type": "code",
   "execution_count": 0,
   "metadata": {
    "colab": {},
    "colab_type": "code",
    "id": "1bMH_d8Ct4d4"
   },
   "outputs": [],
   "source": [
    "train = pd.read_csv('train_missing_replaced.csv')"
   ]
  },
  {
   "cell_type": "code",
   "execution_count": 5,
   "metadata": {
    "colab": {
     "base_uri": "https://localhost:8080/",
     "height": 145
    },
    "colab_type": "code",
    "executionInfo": {
     "elapsed": 616061,
     "status": "ok",
     "timestamp": 1544693929196,
     "user": {
      "displayName": "Chen Siao",
      "photoUrl": "",
      "userId": "10255725406936450127"
     },
     "user_tz": 300
    },
    "id": "PTKCYZ-suYxf",
    "outputId": "e3df6321-057b-4807-be07-05b55166ff68"
   },
   "outputs": [
    {
     "name": "stderr",
     "output_type": "stream",
     "text": [
      "/usr/local/lib/python2.7/dist-packages/sklearn/ensemble/forest.py:246: FutureWarning: The default value of n_estimators will change from 10 in version 0.20 to 100 in 0.22.\n",
      "  \"10 in version 0.20 to 100 in 0.22.\", FutureWarning)\n"
     ]
    },
    {
     "name": "stdout",
     "output_type": "stream",
     "text": [
      "('time to run the model: ', 566.0122849941254)\n",
      "(' * Accuracy score for the model: ', 0.8658928063371318)\n",
      "(' * Confusion matrix for the model: ', array([[871279,  26844],\n",
      "       [116449,  53924]]))\n"
     ]
    }
   ],
   "source": [
    "target='flag'\n",
    "train['flag'].value_counts()\n",
    "x_columns=[x for x in train.columns if x not in [target] ]\n",
    "X_tot=train[x_columns]\n",
    "X=X_tot.drop(columns=['caller_sum_45','caller_sum_456','record_sum_45','record_sum_456','time_sum_45','time_sum_456'])\n",
    "y=train['flag']\n",
    "\n",
    "X_train, X_test, y_train, y_test = train_test_split(X, y, test_size=0.2)\n",
    "\n",
    "start = timer()\n",
    "clf = RandomForestClassifier(class_weight={0:0.2,1:0.8})\n",
    "clf.fit(X_train, y_train)\n",
    "\n",
    "y_pred = clf.predict(X_test)\n",
    "end = timer()\n",
    "\n",
    "print(\"time to run the model: \", end-start)\n",
    "print(\" * Accuracy score for the model: \", clf.score(X_test, y_test))\n",
    "print(\" * Confusion matrix for the model: \", confusion_matrix(y_test, y_pred))"
   ]
  },
  {
   "cell_type": "code",
   "execution_count": 6,
   "metadata": {
    "colab": {
     "base_uri": "https://localhost:8080/",
     "height": 54
    },
    "colab_type": "code",
    "executionInfo": {
     "elapsed": 616024,
     "status": "ok",
     "timestamp": 1544693929654,
     "user": {
      "displayName": "Chen Siao",
      "photoUrl": "",
      "userId": "10255725406936450127"
     },
     "user_tz": 300
    },
    "id": "nAxXNyfqvTIc",
    "outputId": "74495d7f-760d-4292-d1ee-65293bd491c1"
   },
   "outputs": [
    {
     "name": "stdout",
     "output_type": "stream",
     "text": [
      "('the ROC score is:', 0.6433082738738756)\n"
     ]
    }
   ],
   "source": [
    "print('the ROC score is:',roc_auc_score(y_test, y_pred))\n"
   ]
  }
 ],
 "metadata": {
  "accelerator": "GPU",
  "colab": {
   "collapsed_sections": [],
   "name": "RF with imputed data.ipynb",
   "provenance": [],
   "version": "0.3.2"
  },
  "kernelspec": {
   "display_name": "Python 3",
   "language": "python",
   "name": "python3"
  },
  "language_info": {
   "codemirror_mode": {
    "name": "ipython",
    "version": 3
   },
   "file_extension": ".py",
   "mimetype": "text/x-python",
   "name": "python",
   "nbconvert_exporter": "python",
   "pygments_lexer": "ipython3",
   "version": "3.7.3"
  }
 },
 "nbformat": 4,
 "nbformat_minor": 1
}
