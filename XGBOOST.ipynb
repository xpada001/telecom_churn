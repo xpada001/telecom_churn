{
 "cells": [
  {
   "cell_type": "code",
   "execution_count": 0,
   "metadata": {
    "colab": {
     "base_uri": "https://localhost:8080/",
     "height": 127
    },
    "colab_type": "code",
    "id": "GpY1wgGwKQGi",
    "outputId": "4ad70156-0cf7-4d45-d450-db9e2bb57e9f"
   },
   "outputs": [
    {
     "name": "stdout",
     "output_type": "stream",
     "text": [
      "Requirement already satisfied: tabulate in /usr/local/lib/python2.7/dist-packages (0.8.2)\n"
     ]
    }
   ],
   "source": [
    "!pip install tabulate"
   ]
  },
  {
   "cell_type": "code",
   "execution_count": 0,
   "metadata": {
    "colab": {},
    "colab_type": "code",
    "id": "gsjsAs-sJZbK"
   },
   "outputs": [],
   "source": [
    "import pandas as pd\n",
    "import numpy as np\n",
    "import os\n",
    "import csv\n",
    "import seaborn as sns\n",
    "import matplotlib.pyplot as plt \n",
    "import sklearn as sk\n",
    "from sklearn.datasets import load_iris\n",
    "from sklearn.linear_model import LogisticRegression\n",
    "from sklearn.model_selection import train_test_split, KFold, cross_val_score, GridSearchCV\n",
    "from sklearn.decomposition import PCA\n",
    "from sklearn.metrics import roc_auc_score, roc_curve, confusion_matrix, confusion_matrix, mean_squared_error\n",
    "from xgboost import XGBClassifier, XGBRegressor\n",
    "from sklearn import metrics \n",
    "from timeit import default_timer as timer\n",
    "from google.colab import drive"
   ]
  },
  {
   "cell_type": "code",
   "execution_count": 0,
   "metadata": {
    "colab": {
     "base_uri": "https://localhost:8080/",
     "height": 61
    },
    "colab_type": "code",
    "id": "zHVgzJ7AKIHj",
    "outputId": "f36386a7-49fd-45a6-94e6-ecfb641782bf"
   },
   "outputs": [
    {
     "name": "stdout",
     "output_type": "stream",
     "text": [
      "Drive already mounted at /Downloads/; to attempt to forcibly remount, call drive.mount(\"/Downloads/\", force_remount=True).\n"
     ]
    }
   ],
   "source": [
    "drive.mount('/Downloads/')"
   ]
  },
  {
   "cell_type": "code",
   "execution_count": 0,
   "metadata": {
    "colab": {
     "base_uri": "https://localhost:8080/",
     "height": 105
    },
    "colab_type": "code",
    "id": "qvOIZTXRKI1K",
    "outputId": "4ae3b21d-d098-4e35-a503-92b1d18782aa"
   },
   "outputs": [
    {
     "name": "stdout",
     "output_type": "stream",
     "text": [
      "('time to run the model: ', 725.2800641059875)\n",
      "(' * Accuracy score for the model: ', 0.8230699414175308)\n",
      "(' * Confusion matrix for the model: ', array([[746397, 126434],\n",
      "       [ 53690,  91531]]))\n"
     ]
    }
   ],
   "source": [
    "os.environ['KMP_DUPLICATE_LIB_OK']='True'\n",
    "\n",
    "train = pd.read_csv('train_no_missing_outlier.csv')\n",
    "\n",
    "# splitting X and Y from train dataset\n",
    "X_train = np.array(train.drop(['id','open_date', 'caller_sum_45', 'caller_sum_456',\n",
    "                              'record_sum_45', 'record_sum_456', 'time_sum_45', 'time_sum_456', 'flag'], axis = 1))\n",
    "Y_train = np.array(train['flag'])\n",
    "\n",
    "X_train, X_test, y_train, y_test = train_test_split(X_train, Y_train, test_size=0.2, random_state=0)\n",
    "\n",
    "weight2 = 0.8\n",
    "weight1 = 0.2\n",
    "\n",
    "start = timer()\n",
    "xgb_model = XGBClassifier(scale_pos_weight = weight2/weight1)\n",
    "xgb_model.fit(X_train, y_train)\n",
    "\n",
    "y_pred = xgb_model.predict(X_test)\n",
    "end = timer()\n",
    "\n",
    "print(\"time to run the model: \", end-start)\n",
    "print(\" * Accuracy score for the model: \", xgb_model.score(X_test, y_test))\n",
    "print(\" * Confusion matrix for the model: \", confusion_matrix(y_test, y_pred))"
   ]
  },
  {
   "cell_type": "code",
   "execution_count": 0,
   "metadata": {
    "colab": {
     "base_uri": "https://localhost:8080/",
     "height": 54
    },
    "colab_type": "code",
    "id": "VbaJA8Om4x-h",
    "outputId": "16d26b72-9f1b-488b-b6b0-6e6bd45a0228"
   },
   "outputs": [
    {
     "name": "stdout",
     "output_type": "stream",
     "text": [
      "('the roc score is:', 0.7427162777697047)\n"
     ]
    }
   ],
   "source": [
    "print('the roc score is:',roc_auc_score(y_test, y_pred))"
   ]
  },
  {
   "cell_type": "code",
   "execution_count": 0,
   "metadata": {
    "colab": {},
    "colab_type": "code",
    "id": "iCrkixR-U3Be"
   },
   "outputs": [],
   "source": [
    "#try different weight for class 0 and 1\n",
    "num_matrix = 5\n",
    "\n",
    "confusion_matrix_list = np.zeros((num_matrix, 4, 2)) \n",
    "# +2 for including the corresponding weight assignment and accuracy\n",
    "\n",
    "roc_list = np.zeros(num_matrix)\n",
    "\n",
    "weight1 = 0.1\n",
    "weight2 = 0.9\n",
    "for i in range(num_matrix):\n",
    "  xgb_model = XGBClassifier(scale_pos_weight = weight2/weight1)\n",
    "  xgb_model.fit(X_train, y_train)\n",
    "  y_pred = xgb_model.predict(X_test)\n",
    "  conf_matrix = confusion_matrix(y_test, y_pred)\n",
    "\n",
    "  confusion_matrix_list[i][0:-2] = conf_matrix\n",
    "  confusion_matrix_list[i][-2] = np.array([weight1, weight2])\n",
    "  roc_score = roc_auc_score(y_test, xgb_model.predict(X_test))\n",
    "  confusion_matrix_list[i][-1] = np.array([xgb_model.score(X_test, y_test), roc_score])\n",
    "  weight1 += 0.1\n",
    "  weight2 -= 0.1\n",
    "  "
   ]
  },
  {
   "cell_type": "code",
   "execution_count": 0,
   "metadata": {
    "colab": {},
    "colab_type": "code",
    "id": "1qMuBHKrU3Bh"
   },
   "outputs": [],
   "source": [
    "# from tabulate import tabulate\n",
    "# print tabulate(confusion_matrix_list, headers=['True Negative/False Negative','False Positive/True Positive', 'class 0 weight/class 1 weight', 'test accuracy/ ROC score'])"
   ]
  },
  {
   "cell_type": "code",
   "execution_count": 0,
   "metadata": {
    "colab": {
     "base_uri": "https://localhost:8080/",
     "height": 105
    },
    "colab_type": "code",
    "id": "tJVmR33MU3Bv",
    "outputId": "47203e78-28a5-4764-8146-2bf3929a90da"
   },
   "outputs": [
    {
     "name": "stdout",
     "output_type": "stream",
     "text": [
      "('time to run the model: ', 394.6491858959198)\n",
      "(' * Accuracy score for the model: ', 0.8229805550207652)\n",
      "(' * Confusion matrix for the model: ', array([[746344, 126487],\n",
      "       [ 53728,  91493]]))\n"
     ]
    }
   ],
   "source": [
    "#reduced 2 features (from 12 to 10 features)\n",
    "os.environ['KMP_DUPLICATE_LIB_OK']='True'\n",
    "\n",
    "train = pd.read_csv('train_no_missing_outlier.csv')\n",
    "\n",
    "# splitting X and Y from train dataset\n",
    "X_train = np.array(train[['day','record_sum_5','caller_sum_5','record_sum_6','record_sum_4',\n",
    "                               'brand','time_sum_5','time_sum_4','caller_sum_4','city_flag']])\n",
    "Y_train = np.array(train['flag'])\n",
    "\n",
    "X_train, X_test, y_train, y_test = train_test_split(X_train, Y_train, test_size=0.2, random_state=0)\n",
    "\n",
    "weight1 = 0.2\n",
    "weight2 = 0.8\n",
    "\n",
    "#start timer\n",
    "start = timer()\n",
    "xgb_model = XGBClassifier(scale_pos_weight = weight2/weight1)\n",
    "xgb_model.fit(X_train, y_train)\n",
    "\n",
    "y_pred = xgb_model.predict(X_test)\n",
    "end = timer()\n",
    "print(\"time to run the model: \", end-start)\n",
    "print(\" * Accuracy score for the model: \", xgb_model.score(X_test, y_test))\n",
    "print(\" * Confusion matrix for the model: \", confusion_matrix(y_test, y_pred))"
   ]
  },
  {
   "cell_type": "code",
   "execution_count": 0,
   "metadata": {
    "colab": {
     "base_uri": "https://localhost:8080/",
     "height": 54
    },
    "colab_type": "code",
    "id": "-NZ99-orU8yP",
    "outputId": "9a770829-a651-4eed-b042-68d160e7baa2"
   },
   "outputs": [
    {
     "name": "stdout",
     "output_type": "stream",
     "text": [
      "('the roc score is:', 0.7425550817228371)\n"
     ]
    }
   ],
   "source": [
    "print('the roc score is:',roc_auc_score(y_test, y_pred))"
   ]
  }
 ],
 "metadata": {
  "accelerator": "GPU",
  "colab": {
   "collapsed_sections": [],
   "name": "XGBOOST.ipynb",
   "provenance": [],
   "version": "0.3.2"
  },
  "kernelspec": {
   "display_name": "Python 3",
   "language": "python",
   "name": "python3"
  },
  "language_info": {
   "codemirror_mode": {
    "name": "ipython",
    "version": 3
   },
   "file_extension": ".py",
   "mimetype": "text/x-python",
   "name": "python",
   "nbconvert_exporter": "python",
   "pygments_lexer": "ipython3",
   "version": "3.7.3"
  }
 },
 "nbformat": 4,
 "nbformat_minor": 1
}
