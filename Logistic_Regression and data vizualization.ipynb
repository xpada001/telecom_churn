{
 "cells": [
  {
   "cell_type": "code",
   "execution_count": 0,
   "metadata": {
    "colab": {
     "base_uri": "https://localhost:8080/",
     "height": 127
    },
    "colab_type": "code",
    "id": "4Z7SQxs88AFT",
    "outputId": "1aaebf1c-31e2-42eb-cb3a-51e0b13992d8"
   },
   "outputs": [
    {
     "name": "stdout",
     "output_type": "stream",
     "text": [
      "Requirement already satisfied: tabulate in /usr/local/lib/python2.7/dist-packages (0.8.2)\n"
     ]
    }
   ],
   "source": [
    "!pip install tabulate"
   ]
  },
  {
   "cell_type": "code",
   "execution_count": 0,
   "metadata": {
    "colab": {},
    "colab_type": "code",
    "id": "wJMuQ297dq-a"
   },
   "outputs": [],
   "source": [
    "import pandas as pd\n",
    "import numpy as np\n",
    "import sklearn as sk\n",
    "from sklearn.datasets import load_iris\n",
    "from sklearn.linear_model import LogisticRegression\n",
    "import matplotlib.pyplot as plt \n",
    "from sklearn.model_selection import train_test_split\n",
    "from sklearn.decomposition import PCA\n",
    "import seaborn as sns\n",
    "from google.colab import drive\n",
    "import csv\n",
    "from sklearn.metrics import roc_auc_score\n",
    "from sklearn.metrics import roc_curve\n",
    "from sklearn.metrics import confusion_matrix\n",
    "from sklearn.preprocessing import StandardScaler"
   ]
  },
  {
   "cell_type": "code",
   "execution_count": 0,
   "metadata": {
    "colab": {
     "base_uri": "https://localhost:8080/",
     "height": 61
    },
    "colab_type": "code",
    "id": "Z-C2AOYIgCuN",
    "outputId": "3491028f-b74a-4e21-d6d9-e1bce4b26123"
   },
   "outputs": [
    {
     "name": "stdout",
     "output_type": "stream",
     "text": [
      "Drive already mounted at /Downloads/; to attempt to forcibly remount, call drive.mount(\"/Downloads/\", force_remount=True).\n"
     ]
    }
   ],
   "source": [
    "drive.mount('/Downloads/')"
   ]
  },
  {
   "cell_type": "code",
   "execution_count": 0,
   "metadata": {
    "colab": {},
    "colab_type": "code",
    "id": "rTjj9QQfnI2m"
   },
   "outputs": [],
   "source": [
    "#first lets import the original data\n",
    "\n",
    "original = pd.read_csv('Original_data.csv')"
   ]
  },
  {
   "cell_type": "code",
   "execution_count": 0,
   "metadata": {
    "colab": {
     "base_uri": "https://localhost:8080/",
     "height": 54
    },
    "colab_type": "code",
    "id": "OgPpinWSnbLg",
    "outputId": "a70da2e9-45d5-4f5b-b29c-198143764bcf"
   },
   "outputs": [
    {
     "data": {
      "text/plain": [
       "(8013713, 21)"
      ]
     },
     "execution_count": 6,
     "metadata": {
      "tags": []
     },
     "output_type": "execute_result"
    }
   ],
   "source": [
    "#observe the heatmap to check the NaN value in the orginal dataset\n",
    "\n",
    "original.shape\n",
    "#heatmap will kill the kernel on Colab\n",
    "#sns.heatmap(original.isnull(),yticklabels=False,cmap='viridis')"
   ]
  },
  {
   "cell_type": "markdown",
   "metadata": {
    "colab_type": "text",
    "id": "GPWSf6PFKf35"
   },
   "source": []
  },
  {
   "cell_type": "code",
   "execution_count": 0,
   "metadata": {
    "colab": {},
    "colab_type": "code",
    "id": "Bq8l3Fgidq-i"
   },
   "outputs": [],
   "source": [
    "train = pd.read_csv('train_no_missing_outlier.csv')\n",
    "test = pd.read_csv('test_no_missing_outlier.csv')\n",
    "\n",
    "train.drop(['id','open_date', 'caller_sum_45', 'caller_sum_456',\n",
    "                              'record_sum_45', 'record_sum_456', 'time_sum_45', 'time_sum_456'], axis = 1, inplace=True)\n",
    "# test.drop(['id','open_date', 'caller_sum_45', 'caller_sum_456',\n",
    "#                               'record_sum_45', 'record_sum_456', 'time_sum_45', 'time_sum_456'], axis = 1, inplace=True)"
   ]
  },
  {
   "cell_type": "code",
   "execution_count": 0,
   "metadata": {
    "colab": {
     "base_uri": "https://localhost:8080/",
     "height": 54
    },
    "colab_type": "code",
    "id": "OjZW131rkHyG",
    "outputId": "00a96773-c077-4f62-ae1a-1981a3b7d4a1"
   },
   "outputs": [
    {
     "data": {
      "text/plain": [
       "False"
      ]
     },
     "execution_count": 8,
     "metadata": {
      "tags": []
     },
     "output_type": "execute_result"
    }
   ],
   "source": [
    "#check if train dataframe contains any NaN values\n",
    "train.isnull().values.any()"
   ]
  },
  {
   "cell_type": "code",
   "execution_count": 0,
   "metadata": {
    "colab": {
     "base_uri": "https://localhost:8080/",
     "height": 54
    },
    "colab_type": "code",
    "id": "Cg8qEY0ydq-o",
    "outputId": "1e0c4087-d578-4968-f725-9edc26ce69c2"
   },
   "outputs": [
    {
     "data": {
      "text/plain": [
       "(5090258, 13)"
      ]
     },
     "execution_count": 9,
     "metadata": {
      "tags": []
     },
     "output_type": "execute_result"
    }
   ],
   "source": [
    "train.shape"
   ]
  },
  {
   "cell_type": "code",
   "execution_count": 0,
   "metadata": {
    "colab": {
     "base_uri": "https://localhost:8080/",
     "height": 228
    },
    "colab_type": "code",
    "id": "yaXD6lKzdq-w",
    "outputId": "e5ae4062-176c-4fe5-cf75-9fda507fcc30"
   },
   "outputs": [
    {
     "data": {
      "text/html": [
       "<div>\n",
       "<style scoped>\n",
       "    .dataframe tbody tr th:only-of-type {\n",
       "        vertical-align: middle;\n",
       "    }\n",
       "\n",
       "    .dataframe tbody tr th {\n",
       "        vertical-align: top;\n",
       "    }\n",
       "\n",
       "    .dataframe thead th {\n",
       "        text-align: right;\n",
       "    }\n",
       "</style>\n",
       "<table border=\"1\" class=\"dataframe\">\n",
       "  <thead>\n",
       "    <tr style=\"text-align: right;\">\n",
       "      <th></th>\n",
       "      <th>caller_sum_6</th>\n",
       "      <th>record_sum_6</th>\n",
       "      <th>time_sum_6</th>\n",
       "      <th>caller_sum_4</th>\n",
       "      <th>record_sum_4</th>\n",
       "      <th>time_sum_4</th>\n",
       "      <th>caller_sum_5</th>\n",
       "      <th>record_sum_5</th>\n",
       "      <th>time_sum_5</th>\n",
       "      <th>brand</th>\n",
       "      <th>city_flag</th>\n",
       "      <th>day</th>\n",
       "      <th>flag</th>\n",
       "    </tr>\n",
       "  </thead>\n",
       "  <tbody>\n",
       "    <tr>\n",
       "      <th>0</th>\n",
       "      <td>198</td>\n",
       "      <td>535</td>\n",
       "      <td>2295</td>\n",
       "      <td>197</td>\n",
       "      <td>572</td>\n",
       "      <td>2666</td>\n",
       "      <td>224</td>\n",
       "      <td>638</td>\n",
       "      <td>2678</td>\n",
       "      <td>1</td>\n",
       "      <td>1</td>\n",
       "      <td>863</td>\n",
       "      <td>0</td>\n",
       "    </tr>\n",
       "    <tr>\n",
       "      <th>1</th>\n",
       "      <td>8</td>\n",
       "      <td>8</td>\n",
       "      <td>14</td>\n",
       "      <td>68</td>\n",
       "      <td>147</td>\n",
       "      <td>495</td>\n",
       "      <td>1</td>\n",
       "      <td>1</td>\n",
       "      <td>1</td>\n",
       "      <td>1</td>\n",
       "      <td>1</td>\n",
       "      <td>1809</td>\n",
       "      <td>1</td>\n",
       "    </tr>\n",
       "    <tr>\n",
       "      <th>2</th>\n",
       "      <td>26</td>\n",
       "      <td>74</td>\n",
       "      <td>291</td>\n",
       "      <td>25</td>\n",
       "      <td>100</td>\n",
       "      <td>403</td>\n",
       "      <td>29</td>\n",
       "      <td>87</td>\n",
       "      <td>340</td>\n",
       "      <td>2</td>\n",
       "      <td>1</td>\n",
       "      <td>2551</td>\n",
       "      <td>0</td>\n",
       "    </tr>\n",
       "    <tr>\n",
       "      <th>3</th>\n",
       "      <td>49</td>\n",
       "      <td>213</td>\n",
       "      <td>797</td>\n",
       "      <td>50</td>\n",
       "      <td>210</td>\n",
       "      <td>771</td>\n",
       "      <td>56</td>\n",
       "      <td>245</td>\n",
       "      <td>1026</td>\n",
       "      <td>3</td>\n",
       "      <td>1</td>\n",
       "      <td>91</td>\n",
       "      <td>0</td>\n",
       "    </tr>\n",
       "    <tr>\n",
       "      <th>4</th>\n",
       "      <td>229</td>\n",
       "      <td>726</td>\n",
       "      <td>2628</td>\n",
       "      <td>212</td>\n",
       "      <td>726</td>\n",
       "      <td>2498</td>\n",
       "      <td>236</td>\n",
       "      <td>766</td>\n",
       "      <td>2723</td>\n",
       "      <td>1</td>\n",
       "      <td>0</td>\n",
       "      <td>2121</td>\n",
       "      <td>0</td>\n",
       "    </tr>\n",
       "  </tbody>\n",
       "</table>\n",
       "</div>"
      ],
      "text/plain": [
       "   caller_sum_6  record_sum_6  time_sum_6  caller_sum_4  record_sum_4  \\\n",
       "0           198           535        2295           197           572   \n",
       "1             8             8          14            68           147   \n",
       "2            26            74         291            25           100   \n",
       "3            49           213         797            50           210   \n",
       "4           229           726        2628           212           726   \n",
       "\n",
       "   time_sum_4  caller_sum_5  record_sum_5  time_sum_5  brand  city_flag   day  \\\n",
       "0        2666           224           638        2678      1          1   863   \n",
       "1         495             1             1           1      1          1  1809   \n",
       "2         403            29            87         340      2          1  2551   \n",
       "3         771            56           245        1026      3          1    91   \n",
       "4        2498           236           766        2723      1          0  2121   \n",
       "\n",
       "   flag  \n",
       "0     0  \n",
       "1     1  \n",
       "2     0  \n",
       "3     0  \n",
       "4     0  "
      ]
     },
     "execution_count": 10,
     "metadata": {
      "tags": []
     },
     "output_type": "execute_result"
    }
   ],
   "source": [
    "train.head()"
   ]
  },
  {
   "cell_type": "code",
   "execution_count": 0,
   "metadata": {
    "colab": {
     "base_uri": "https://localhost:8080/",
     "height": 335
    },
    "colab_type": "code",
    "id": "vG6K-dAPdq-3",
    "outputId": "9ffa8e84-e69f-40f6-d256-51c2cd4bcd31"
   },
   "outputs": [
    {
     "name": "stdout",
     "output_type": "stream",
     "text": [
      "<class 'pandas.core.frame.DataFrame'>\n",
      "RangeIndex: 5090258 entries, 0 to 5090257\n",
      "Data columns (total 13 columns):\n",
      "caller_sum_6    int64\n",
      "record_sum_6    int64\n",
      "time_sum_6      int64\n",
      "caller_sum_4    int64\n",
      "record_sum_4    int64\n",
      "time_sum_4      int64\n",
      "caller_sum_5    int64\n",
      "record_sum_5    int64\n",
      "time_sum_5      int64\n",
      "brand           int64\n",
      "city_flag       int64\n",
      "day             int64\n",
      "flag            int64\n",
      "dtypes: int64(13)\n",
      "memory usage: 504.9 MB\n"
     ]
    }
   ],
   "source": [
    "train.info()"
   ]
  },
  {
   "cell_type": "code",
   "execution_count": 0,
   "metadata": {
    "colab": {
     "base_uri": "https://localhost:8080/",
     "height": 320
    },
    "colab_type": "code",
    "id": "g-1aWcsXdq-_",
    "outputId": "9c77bf40-6224-41cf-d651-22cd3895c21a"
   },
   "outputs": [
    {
     "data": {
      "text/html": [
       "<div>\n",
       "<style scoped>\n",
       "    .dataframe tbody tr th:only-of-type {\n",
       "        vertical-align: middle;\n",
       "    }\n",
       "\n",
       "    .dataframe tbody tr th {\n",
       "        vertical-align: top;\n",
       "    }\n",
       "\n",
       "    .dataframe thead th {\n",
       "        text-align: right;\n",
       "    }\n",
       "</style>\n",
       "<table border=\"1\" class=\"dataframe\">\n",
       "  <thead>\n",
       "    <tr style=\"text-align: right;\">\n",
       "      <th></th>\n",
       "      <th>caller_sum_6</th>\n",
       "      <th>record_sum_6</th>\n",
       "      <th>time_sum_6</th>\n",
       "      <th>caller_sum_4</th>\n",
       "      <th>record_sum_4</th>\n",
       "      <th>time_sum_4</th>\n",
       "      <th>caller_sum_5</th>\n",
       "      <th>record_sum_5</th>\n",
       "      <th>time_sum_5</th>\n",
       "      <th>brand</th>\n",
       "      <th>city_flag</th>\n",
       "      <th>day</th>\n",
       "      <th>flag</th>\n",
       "    </tr>\n",
       "  </thead>\n",
       "  <tbody>\n",
       "    <tr>\n",
       "      <th>count</th>\n",
       "      <td>5090258.00</td>\n",
       "      <td>5090258.00</td>\n",
       "      <td>5090258.00</td>\n",
       "      <td>5090258.00</td>\n",
       "      <td>5090258.00</td>\n",
       "      <td>5090258.00</td>\n",
       "      <td>5090258.00</td>\n",
       "      <td>5090258.00</td>\n",
       "      <td>5090258.00</td>\n",
       "      <td>5090258.00</td>\n",
       "      <td>5090258.00</td>\n",
       "      <td>5090258.00</td>\n",
       "      <td>5090258.00</td>\n",
       "    </tr>\n",
       "    <tr>\n",
       "      <th>mean</th>\n",
       "      <td>30.86</td>\n",
       "      <td>92.33</td>\n",
       "      <td>405.75</td>\n",
       "      <td>30.19</td>\n",
       "      <td>97.29</td>\n",
       "      <td>430.66</td>\n",
       "      <td>32.30</td>\n",
       "      <td>98.11</td>\n",
       "      <td>432.84</td>\n",
       "      <td>2.21</td>\n",
       "      <td>0.63</td>\n",
       "      <td>1455.86</td>\n",
       "      <td>0.14</td>\n",
       "    </tr>\n",
       "    <tr>\n",
       "      <th>std</th>\n",
       "      <td>35.78</td>\n",
       "      <td>97.32</td>\n",
       "      <td>455.96</td>\n",
       "      <td>36.48</td>\n",
       "      <td>103.72</td>\n",
       "      <td>491.77</td>\n",
       "      <td>38.07</td>\n",
       "      <td>103.36</td>\n",
       "      <td>489.01</td>\n",
       "      <td>0.65</td>\n",
       "      <td>0.48</td>\n",
       "      <td>1253.51</td>\n",
       "      <td>0.35</td>\n",
       "    </tr>\n",
       "    <tr>\n",
       "      <th>min</th>\n",
       "      <td>1.00</td>\n",
       "      <td>1.00</td>\n",
       "      <td>0.00</td>\n",
       "      <td>1.00</td>\n",
       "      <td>1.00</td>\n",
       "      <td>0.00</td>\n",
       "      <td>1.00</td>\n",
       "      <td>1.00</td>\n",
       "      <td>0.00</td>\n",
       "      <td>1.00</td>\n",
       "      <td>-1.00</td>\n",
       "      <td>61.00</td>\n",
       "      <td>0.00</td>\n",
       "    </tr>\n",
       "    <tr>\n",
       "      <th>25%</th>\n",
       "      <td>11.00</td>\n",
       "      <td>32.00</td>\n",
       "      <td>107.00</td>\n",
       "      <td>11.00</td>\n",
       "      <td>33.00</td>\n",
       "      <td>109.00</td>\n",
       "      <td>12.00</td>\n",
       "      <td>33.00</td>\n",
       "      <td>112.00</td>\n",
       "      <td>2.00</td>\n",
       "      <td>0.00</td>\n",
       "      <td>358.00</td>\n",
       "      <td>0.00</td>\n",
       "    </tr>\n",
       "    <tr>\n",
       "      <th>50%</th>\n",
       "      <td>21.00</td>\n",
       "      <td>66.00</td>\n",
       "      <td>262.00</td>\n",
       "      <td>21.00</td>\n",
       "      <td>69.00</td>\n",
       "      <td>273.00</td>\n",
       "      <td>22.00</td>\n",
       "      <td>70.00</td>\n",
       "      <td>278.00</td>\n",
       "      <td>2.00</td>\n",
       "      <td>1.00</td>\n",
       "      <td>1125.00</td>\n",
       "      <td>0.00</td>\n",
       "    </tr>\n",
       "    <tr>\n",
       "      <th>75%</th>\n",
       "      <td>38.00</td>\n",
       "      <td>119.00</td>\n",
       "      <td>540.00</td>\n",
       "      <td>37.00</td>\n",
       "      <td>125.00</td>\n",
       "      <td>574.00</td>\n",
       "      <td>40.00</td>\n",
       "      <td>126.00</td>\n",
       "      <td>577.00</td>\n",
       "      <td>3.00</td>\n",
       "      <td>1.00</td>\n",
       "      <td>2292.00</td>\n",
       "      <td>0.00</td>\n",
       "    </tr>\n",
       "    <tr>\n",
       "      <th>max</th>\n",
       "      <td>6676.00</td>\n",
       "      <td>7083.00</td>\n",
       "      <td>30375.00</td>\n",
       "      <td>8350.00</td>\n",
       "      <td>9947.00</td>\n",
       "      <td>21712.00</td>\n",
       "      <td>9001.00</td>\n",
       "      <td>9208.00</td>\n",
       "      <td>29832.00</td>\n",
       "      <td>3.00</td>\n",
       "      <td>1.00</td>\n",
       "      <td>8946.00</td>\n",
       "      <td>1.00</td>\n",
       "    </tr>\n",
       "  </tbody>\n",
       "</table>\n",
       "</div>"
      ],
      "text/plain": [
       "       caller_sum_6  record_sum_6  time_sum_6  caller_sum_4  record_sum_4  \\\n",
       "count    5090258.00    5090258.00  5090258.00    5090258.00    5090258.00   \n",
       "mean          30.86         92.33      405.75         30.19         97.29   \n",
       "std           35.78         97.32      455.96         36.48        103.72   \n",
       "min            1.00          1.00        0.00          1.00          1.00   \n",
       "25%           11.00         32.00      107.00         11.00         33.00   \n",
       "50%           21.00         66.00      262.00         21.00         69.00   \n",
       "75%           38.00        119.00      540.00         37.00        125.00   \n",
       "max         6676.00       7083.00    30375.00       8350.00       9947.00   \n",
       "\n",
       "       time_sum_4  caller_sum_5  record_sum_5  time_sum_5      brand  \\\n",
       "count  5090258.00    5090258.00    5090258.00  5090258.00 5090258.00   \n",
       "mean       430.66         32.30         98.11      432.84       2.21   \n",
       "std        491.77         38.07        103.36      489.01       0.65   \n",
       "min          0.00          1.00          1.00        0.00       1.00   \n",
       "25%        109.00         12.00         33.00      112.00       2.00   \n",
       "50%        273.00         22.00         70.00      278.00       2.00   \n",
       "75%        574.00         40.00        126.00      577.00       3.00   \n",
       "max      21712.00       9001.00       9208.00    29832.00       3.00   \n",
       "\n",
       "       city_flag        day       flag  \n",
       "count 5090258.00 5090258.00 5090258.00  \n",
       "mean        0.63    1455.86       0.14  \n",
       "std         0.48    1253.51       0.35  \n",
       "min        -1.00      61.00       0.00  \n",
       "25%         0.00     358.00       0.00  \n",
       "50%         1.00    1125.00       0.00  \n",
       "75%         1.00    2292.00       0.00  \n",
       "max         1.00    8946.00       1.00  "
      ]
     },
     "execution_count": 12,
     "metadata": {
      "tags": []
     },
     "output_type": "execute_result"
    }
   ],
   "source": [
    "#remove scientific notation for easier reading\n",
    "pd.options.display.float_format = '{:.2f}'.format\n",
    "\n",
    "train.describe()"
   ]
  },
  {
   "cell_type": "code",
   "execution_count": 0,
   "metadata": {
    "colab": {},
    "colab_type": "code",
    "id": "gNfeS9qadq_D"
   },
   "outputs": [],
   "source": [
    "# sns.heatmap(train.isnull(),yticklabels=False,cmap='viridis')"
   ]
  },
  {
   "cell_type": "code",
   "execution_count": 0,
   "metadata": {
    "colab": {
     "base_uri": "https://localhost:8080/",
     "height": 105
    },
    "colab_type": "code",
    "id": "QykPdnBFxcmW",
    "outputId": "6019c19e-90b8-4e9a-c51e-64ce2a8797b2"
   },
   "outputs": [
    {
     "data": {
      "text/plain": [
       "Index([u'caller_sum_6', u'record_sum_6', u'time_sum_6', u'caller_sum_4',\n",
       "       u'record_sum_4', u'time_sum_4', u'caller_sum_5', u'record_sum_5',\n",
       "       u'time_sum_5', u'brand', u'city_flag', u'day', u'flag'],\n",
       "      dtype='object')"
      ]
     },
     "execution_count": 14,
     "metadata": {
      "tags": []
     },
     "output_type": "execute_result"
    }
   ],
   "source": [
    "#here are all the features in training set\n",
    "train.columns"
   ]
  },
  {
   "cell_type": "code",
   "execution_count": 0,
   "metadata": {
    "colab": {
     "base_uri": "https://localhost:8080/",
     "height": 385
    },
    "colab_type": "code",
    "id": "_FV7d4sFHrvz",
    "outputId": "4568ee25-597c-47d6-f98d-cf72ac7dcf4a"
   },
   "outputs": [
    {
     "name": "stderr",
     "output_type": "stream",
     "text": [
      "/usr/local/lib/python2.7/dist-packages/ipykernel_launcher.py:29: SettingWithCopyWarning: \n",
      "A value is trying to be set on a copy of a slice from a DataFrame\n",
      "\n",
      "See the caveats in the documentation: http://pandas.pydata.org/pandas-docs/stable/indexing.html#indexing-view-versus-copy\n",
      "/usr/local/lib/python2.7/dist-packages/ipykernel_launcher.py:30: SettingWithCopyWarning: \n",
      "A value is trying to be set on a copy of a slice from a DataFrame\n",
      "\n",
      "See the caveats in the documentation: http://pandas.pydata.org/pandas-docs/stable/indexing.html#indexing-view-versus-copy\n",
      "/usr/local/lib/python2.7/dist-packages/pandas/core/indexing.py:194: SettingWithCopyWarning: \n",
      "A value is trying to be set on a copy of a slice from a DataFrame\n",
      "\n",
      "See the caveats in the documentation: http://pandas.pydata.org/pandas-docs/stable/indexing.html#indexing-view-versus-copy\n",
      "  self._setitem_with_indexer(indexer, value)\n",
      "/usr/local/lib/python2.7/dist-packages/ipykernel_launcher.py:32: SettingWithCopyWarning: \n",
      "A value is trying to be set on a copy of a slice from a DataFrame\n",
      "\n",
      "See the caveats in the documentation: http://pandas.pydata.org/pandas-docs/stable/indexing.html#indexing-view-versus-copy\n",
      "/usr/local/lib/python2.7/dist-packages/ipykernel_launcher.py:33: SettingWithCopyWarning: \n",
      "A value is trying to be set on a copy of a slice from a DataFrame\n",
      "\n",
      "See the caveats in the documentation: http://pandas.pydata.org/pandas-docs/stable/indexing.html#indexing-view-versus-copy\n"
     ]
    }
   ],
   "source": [
    "df1 = pd.DataFrame(train[train['flag']==1][['caller_sum_4','caller_sum_5','caller_sum_6']])\n",
    "df0 = pd.DataFrame(train[train['flag']==0][['caller_sum_4','caller_sum_5','caller_sum_6']])\n",
    "\n",
    "grouped_df1 = df1.apply(pd.Series.value_counts)\n",
    "grouped_df0 = df0.apply(pd.Series.value_counts)\n",
    "\n",
    "new_col1 = grouped_df1.index\n",
    "new_col0 = grouped_df0.index\n",
    "\n",
    "grouped_df1['indices'] = new_col1\n",
    "grouped_df0['indices'] = new_col0\n",
    "\n",
    "# grouped_df1.groupby(pd.cut(grouped_df1['indices'], np.arange(0,100,10))).sum()\n",
    "# grouped_df0.groupby(pd.cut(grouped_df0['indices'], np.arange(0,100,10))).sum()\n",
    "\n",
    "#group all caller_sum higher than 100\n",
    "\n",
    "limit = 100\n",
    "increment = 10\n",
    "\n",
    "more_df1 = grouped_df1[grouped_df1['indices']>=limit].sum(axis = 0)\n",
    "more_df0 = grouped_df0[grouped_df0['indices']>=limit].sum(axis = 0)\n",
    "\n",
    "updated_df1 = grouped_df1[grouped_df1['indices']<limit]\n",
    "updated_df0 = grouped_df0[grouped_df0['indices']<limit]\n",
    "\n",
    "new_ind = updated_df0.shape[0] + 1\n",
    "\n",
    "updated_df1.loc[new_ind]=more_df1.tolist()\n",
    "updated_df0.loc[new_ind]=more_df0.tolist()\n",
    "\n",
    "updated_df1.loc[new_ind,'indices'] = limit + 1\n",
    "updated_df0.loc[new_ind,'indices'] = limit + 1\n",
    "\n",
    "final_df1 = updated_df1.groupby(pd.cut(updated_df1['indices'], np.arange(0,limit + increment + 1,increment))).sum()\n",
    "final_df0 = updated_df0.groupby(pd.cut(updated_df0['indices'], np.arange(0,limit + increment + 1,increment))).sum()\n",
    "\n",
    "#now convert to percentage\n",
    "\n",
    "total0 = grouped_df0.sum(axis=0).tolist()[0]\n",
    "total1 = grouped_df1.sum(axis=0).tolist()[0]\n",
    "\n",
    "final_df0 = final_df0.divide(total0)\n",
    "final_df1 = final_df1.divide(total1)"
   ]
  },
  {
   "cell_type": "code",
   "execution_count": 0,
   "metadata": {
    "colab": {
     "base_uri": "https://localhost:8080/",
     "height": 473
    },
    "colab_type": "code",
    "id": "6oL7PWAkXg-L",
    "outputId": "3e5f8cb2-6435-40e1-ca16-43a8290d9498"
   },
   "outputs": [
    {
     "name": "stderr",
     "output_type": "stream",
     "text": [
      "/usr/local/lib/python2.7/dist-packages/pandas/plotting/_core.py:1716: UserWarning: Pandas doesn't allow columns to be created via a new attribute name - see https://pandas.pydata.org/pandas-docs/stable/indexing.html#attribute-access\n",
      "  series.name = label\n"
     ]
    },
    {
     "data": {
      "image/png": "[encoded data removed]",
      "text/plain": [
       "<matplotlib.figure.Figure at 0x7f611a15c490>"
      ]
     },
     "metadata": {
      "tags": []
     },
     "output_type": "display_data"
    }
   ],
   "source": [
    "ax1 = final_df1.plot( y = ['caller_sum_4','caller_sum_5', 'caller_sum_6'], kind = 'bar', title = 'caller_sum with flag 1')\n",
    "\n",
    "ax1.set_xticklabels(['1 to 10', '10 to 20', '20 to 30', '30 to 40', '40 to 50', '50 to 60', '60 to 70', '70 to 80', '80 to 90', \n",
    "                    '90 to 100', '100 or more'])\n",
    "\n",
    "ylim = ax1.set_ylim(0,0.5)"
   ]
  },
  {
   "cell_type": "code",
   "execution_count": 0,
   "metadata": {
    "colab": {
     "base_uri": "https://localhost:8080/",
     "height": 420
    },
    "colab_type": "code",
    "id": "EOGyXOwpqLWR",
    "outputId": "cfa3c71f-5af2-4e50-ec8c-92c68e074d5e"
   },
   "outputs": [
    {
     "data": {
      "image/png": "[encoded data removed]",
      "text/plain": [
       "<matplotlib.figure.Figure at 0x7f611c32c350>"
      ]
     },
     "metadata": {
      "tags": []
     },
     "output_type": "display_data"
    }
   ],
   "source": [
    "ax0 = final_df0.plot( y = ['caller_sum_4','caller_sum_5', 'caller_sum_6'], kind = 'bar', title=\"caller_sum with flag 0\")\n",
    "\n",
    "ax0.set_xticklabels(['1 to 10', '10 to 20', '20 to 30', '30 to 40', '40 to 50', '50 to 60', '60 to 70', '70 to 80', '80 to 90', \n",
    "                    '90 to 100', '100 or more'])\n",
    "\n",
    "ylim = ax0.set_ylim(0,0.5)"
   ]
  },
  {
   "cell_type": "code",
   "execution_count": 0,
   "metadata": {
    "colab": {
     "base_uri": "https://localhost:8080/",
     "height": 302
    },
    "colab_type": "code",
    "id": "N_mqwWehh8Ys",
    "outputId": "b60e8b8b-9a80-44b5-b4bd-78b1c9dc85cd"
   },
   "outputs": [
    {
     "name": "stderr",
     "output_type": "stream",
     "text": [
      "/usr/local/lib/python2.7/dist-packages/ipykernel_launcher.py:30: SettingWithCopyWarning: \n",
      "A value is trying to be set on a copy of a slice from a DataFrame\n",
      "\n",
      "See the caveats in the documentation: http://pandas.pydata.org/pandas-docs/stable/indexing.html#indexing-view-versus-copy\n",
      "/usr/local/lib/python2.7/dist-packages/ipykernel_launcher.py:31: SettingWithCopyWarning: \n",
      "A value is trying to be set on a copy of a slice from a DataFrame\n",
      "\n",
      "See the caveats in the documentation: http://pandas.pydata.org/pandas-docs/stable/indexing.html#indexing-view-versus-copy\n",
      "/usr/local/lib/python2.7/dist-packages/ipykernel_launcher.py:33: SettingWithCopyWarning: \n",
      "A value is trying to be set on a copy of a slice from a DataFrame\n",
      "\n",
      "See the caveats in the documentation: http://pandas.pydata.org/pandas-docs/stable/indexing.html#indexing-view-versus-copy\n",
      "/usr/local/lib/python2.7/dist-packages/ipykernel_launcher.py:34: SettingWithCopyWarning: \n",
      "A value is trying to be set on a copy of a slice from a DataFrame\n",
      "\n",
      "See the caveats in the documentation: http://pandas.pydata.org/pandas-docs/stable/indexing.html#indexing-view-versus-copy\n"
     ]
    }
   ],
   "source": [
    "#now vizualize record_sum, wich is the number of phone calls made in a given month\n",
    "\n",
    "df1 = pd.DataFrame(train[train['flag']==1][['record_sum_4','record_sum_5','record_sum_6']])\n",
    "df0 = pd.DataFrame(train[train['flag']==0][['record_sum_4','record_sum_5','record_sum_6']])\n",
    "\n",
    "grouped_df1 = df1.apply(pd.Series.value_counts)\n",
    "grouped_df0 = df0.apply(pd.Series.value_counts)\n",
    "\n",
    "new_col1 = grouped_df1.index\n",
    "new_col0 = grouped_df0.index\n",
    "\n",
    "grouped_df1['indices'] = new_col1\n",
    "grouped_df0['indices'] = new_col0\n",
    "\n",
    "# grouped_df1.groupby(pd.cut(grouped_df1['indices'], np.arange(0,200,20))).sum()\n",
    "# grouped_df0.groupby(pd.cut(grouped_df0['indices'], np.arange(0,300,30))).sum()\n",
    "\n",
    "#group all record_sum higher than 500\n",
    "\n",
    "limit = 200\n",
    "increment = 20\n",
    "\n",
    "more_df1 = grouped_df1[grouped_df1['indices']>=limit].sum(axis = 0)\n",
    "more_df0 = grouped_df0[grouped_df0['indices']>=limit].sum(axis = 0)\n",
    "\n",
    "updated_df1 = grouped_df1[grouped_df1['indices']<limit]\n",
    "updated_df0 = grouped_df0[grouped_df0['indices']<limit]\n",
    "\n",
    "new_ind = updated_df0.shape[0] + 1\n",
    "\n",
    "updated_df1.loc[new_ind]=more_df1.tolist()\n",
    "updated_df0.loc[new_ind]=more_df0.tolist()\n",
    "\n",
    "updated_df1.loc[new_ind,'indices'] = limit+1\n",
    "updated_df0.loc[new_ind,'indices'] = limit+1\n",
    "\n",
    "final_df1 = updated_df1.groupby(pd.cut(updated_df1['indices'], np.arange(0,limit + increment + 1,increment))).sum()\n",
    "final_df0 = updated_df0.groupby(pd.cut(updated_df0['indices'], np.arange(0,limit + increment + 1,increment))).sum()\n",
    "\n",
    "#now convert to percentage\n",
    "\n",
    "total0 = grouped_df0.sum(axis=0).tolist()[0]\n",
    "total1 = grouped_df1.sum(axis=0).tolist()[0]\n",
    "\n",
    "final_df0 = final_df0.divide(total0)\n",
    "final_df1 = final_df1.divide(total1)"
   ]
  },
  {
   "cell_type": "code",
   "execution_count": 0,
   "metadata": {
    "colab": {
     "base_uri": "https://localhost:8080/",
     "height": 420
    },
    "colab_type": "code",
    "id": "0LRvkacNBS6b",
    "outputId": "96fa6efa-df6f-4dcf-85a7-1c027dcb26f9"
   },
   "outputs": [
    {
     "data": {
      "image/png": "[encoded data removed]",
      "text/plain": [
       "<matplotlib.figure.Figure at 0x7f611a136450>"
      ]
     },
     "metadata": {
      "tags": []
     },
     "output_type": "display_data"
    }
   ],
   "source": [
    "ax1 = final_df1.plot( y = ['record_sum_4','record_sum_5', 'record_sum_6'], kind = 'bar', title=\"record_sum with flag 1\")\n",
    "\n",
    "ax1.set_xticklabels(['1 to 20', '20 to 40', '40 to 60', '60 to 80', '80 to 100', '100 to 120', '120 to 140', '140 to 160', '160 to 180', \n",
    "                    '180 to 200', '200 or more'])\n",
    "\n",
    "ylim = ax1.set_ylim(0,0.5)"
   ]
  },
  {
   "cell_type": "code",
   "execution_count": 0,
   "metadata": {
    "colab": {
     "base_uri": "https://localhost:8080/",
     "height": 420
    },
    "colab_type": "code",
    "id": "KcGS9tuKCET1",
    "outputId": "e6cbe7a5-8bb2-4ecb-cdfe-03cc1099bfd2"
   },
   "outputs": [
    {
     "data": {
      "image/png": "[encoded data removed]",
      "text/plain": [
       "<matplotlib.figure.Figure at 0x7f611a4fb4d0>"
      ]
     },
     "metadata": {
      "tags": []
     },
     "output_type": "display_data"
    }
   ],
   "source": [
    "ax0 = final_df0.plot( y = ['record_sum_4','record_sum_5', 'record_sum_6'], kind = 'bar', title=\"record_sum with flag 0\")\n",
    "\n",
    "ax0.set_xticklabels(['1 to 20', '20 to 40', '40 to 60', '60 to 80', '80 to 100', '100 to 120', '120 to 140', '140 to 160', '160 to 180', \n",
    "                    '180 to 200', '200 or more'])\n",
    "ylim = ax0.set_ylim(0,0.5)"
   ]
  },
  {
   "cell_type": "code",
   "execution_count": 0,
   "metadata": {
    "colab": {
     "base_uri": "https://localhost:8080/",
     "height": 302
    },
    "colab_type": "code",
    "id": "HxE17FjSFMLD",
    "outputId": "8635849f-0c8b-4891-8e20-3620dd74aad5"
   },
   "outputs": [
    {
     "name": "stderr",
     "output_type": "stream",
     "text": [
      "/usr/local/lib/python2.7/dist-packages/ipykernel_launcher.py:30: SettingWithCopyWarning: \n",
      "A value is trying to be set on a copy of a slice from a DataFrame\n",
      "\n",
      "See the caveats in the documentation: http://pandas.pydata.org/pandas-docs/stable/indexing.html#indexing-view-versus-copy\n",
      "/usr/local/lib/python2.7/dist-packages/ipykernel_launcher.py:31: SettingWithCopyWarning: \n",
      "A value is trying to be set on a copy of a slice from a DataFrame\n",
      "\n",
      "See the caveats in the documentation: http://pandas.pydata.org/pandas-docs/stable/indexing.html#indexing-view-versus-copy\n",
      "/usr/local/lib/python2.7/dist-packages/ipykernel_launcher.py:33: SettingWithCopyWarning: \n",
      "A value is trying to be set on a copy of a slice from a DataFrame\n",
      "\n",
      "See the caveats in the documentation: http://pandas.pydata.org/pandas-docs/stable/indexing.html#indexing-view-versus-copy\n",
      "/usr/local/lib/python2.7/dist-packages/ipykernel_launcher.py:34: SettingWithCopyWarning: \n",
      "A value is trying to be set on a copy of a slice from a DataFrame\n",
      "\n",
      "See the caveats in the documentation: http://pandas.pydata.org/pandas-docs/stable/indexing.html#indexing-view-versus-copy\n"
     ]
    }
   ],
   "source": [
    "#now timer_sum, which is how much time spent on each call for a given month\n",
    "\n",
    "df1 = pd.DataFrame(train[train['flag']==1][['time_sum_4','time_sum_5','time_sum_6']])\n",
    "df0 = pd.DataFrame(train[train['flag']==0][['time_sum_4','time_sum_5','time_sum_6']])\n",
    "\n",
    "grouped_df1 = df1.apply(pd.Series.value_counts)\n",
    "grouped_df0 = df0.apply(pd.Series.value_counts)\n",
    "\n",
    "new_col1 = grouped_df1.index\n",
    "new_col0 = grouped_df0.index\n",
    "\n",
    "grouped_df1['indices'] = new_col1\n",
    "grouped_df0['indices'] = new_col0\n",
    "\n",
    "# grouped_df1.groupby(pd.cut(grouped_df1['indices'], np.arange(0,1000,100))).sum()\n",
    "# grouped_df0.groupby(pd.cut(grouped_df0['indices'], np.arange(0,5000,500))).sum()\n",
    "\n",
    "#group all timer_sum higher than 1000\n",
    "\n",
    "limit = 1000\n",
    "increment = 100\n",
    "\n",
    "more_df1 = grouped_df1[grouped_df1['indices']>=limit].sum(axis = 0)\n",
    "more_df0 = grouped_df0[grouped_df0['indices']>=limit].sum(axis = 0)\n",
    "\n",
    "updated_df1 = grouped_df1[grouped_df1['indices']<limit]\n",
    "updated_df0 = grouped_df0[grouped_df0['indices']<limit]\n",
    "\n",
    "new_ind = updated_df0.shape[0] + 1\n",
    "\n",
    "updated_df1.loc[new_ind]=more_df1.tolist()\n",
    "updated_df0.loc[new_ind]=more_df0.tolist()\n",
    "\n",
    "updated_df1.loc[new_ind,'indices'] = limit + 1\n",
    "updated_df0.loc[new_ind,'indices'] = limit + 1\n",
    "\n",
    "final_df1 = updated_df1.groupby(pd.cut(updated_df1['indices'], np.arange(0,limit + increment + 1,increment))).sum()\n",
    "final_df0 = updated_df0.groupby(pd.cut(updated_df0['indices'], np.arange(0,limit + increment + 1,increment))).sum()\n",
    "\n",
    "#now convert to percentage\n",
    "\n",
    "total0 = grouped_df0.sum(axis=0).tolist()[0]\n",
    "total1 = grouped_df1.sum(axis=0).tolist()[0]\n",
    "\n",
    "final_df0 = final_df0.divide(total0)\n",
    "final_df1 = final_df1.divide(total1)"
   ]
  },
  {
   "cell_type": "code",
   "execution_count": 0,
   "metadata": {
    "colab": {
     "base_uri": "https://localhost:8080/",
     "height": 426
    },
    "colab_type": "code",
    "id": "CwZxu6UsHm1n",
    "outputId": "f3b36862-55aa-424f-99b4-6dad36569640"
   },
   "outputs": [
    {
     "data": {
      "image/png": "[encoded data removed]",
      "text/plain": [
       "<matplotlib.figure.Figure at 0x7f611a7f6410>"
      ]
     },
     "metadata": {
      "tags": []
     },
     "output_type": "display_data"
    }
   ],
   "source": [
    "ax1 = final_df1.plot( y = ['time_sum_4','time_sum_5','time_sum_6'], kind = 'bar', title=\"timer_sum with flag 1\")\n",
    "\n",
    "ax1.set_xticklabels(['1 to 100', '100 to 200', '200 to 300', '300 to 400', '400 to 500', '500 to 600', '600 to 700', '700 to 800', '800 to 900', \n",
    "                    '900 to 1000', '1000 or more'])\n",
    "\n",
    "ylim = ax1.set_ylim(0,0.5)"
   ]
  },
  {
   "cell_type": "code",
   "execution_count": 0,
   "metadata": {
    "colab": {
     "base_uri": "https://localhost:8080/",
     "height": 426
    },
    "colab_type": "code",
    "id": "8EbThHWdHmkN",
    "outputId": "249f5bc1-d03e-4652-fc02-3b2d49272f20"
   },
   "outputs": [
    {
     "data": {
      "image/png": "[encoded data removed]",
      "text/plain": [
       "<matplotlib.figure.Figure at 0x7f611a108d50>"
      ]
     },
     "metadata": {
      "tags": []
     },
     "output_type": "display_data"
    }
   ],
   "source": [
    "ax0 = final_df0.plot( y = ['time_sum_4','time_sum_5','time_sum_6'], kind = 'bar', title=\"timer_sum with flag 0\")\n",
    "\n",
    "ax0.set_xticklabels(['1 to 100', '100 to 200', '200 to 300', '300 to 400', '400 to 500', '500 to 600', '600 to 700', '700 to 800', '800 to 900', \n",
    "                    '900 to 1000', '1000 or more'])\n",
    "\n",
    "ylim = ax0.set_ylim(0,0.5)"
   ]
  },
  {
   "cell_type": "code",
   "execution_count": 0,
   "metadata": {
    "colab": {},
    "colab_type": "code",
    "id": "VrSSJBepQt6z"
   },
   "outputs": [],
   "source": [
    "#now lets do data analysis\n",
    "train = train.values"
   ]
  },
  {
   "cell_type": "code",
   "execution_count": 0,
   "metadata": {
    "colab": {},
    "colab_type": "code",
    "id": "vF2F_YI9dq_L"
   },
   "outputs": [],
   "source": [
    "# pca = PCA(n_components=10)\n",
    "# pca_train = pca.fit_transform(train[:,0:18])\n",
    "pca_train = np.delete(train,-1,1)\n",
    "\n",
    "train_y = train[:,-1]\n",
    "train_y = train_y.astype(float)\n",
    "\n",
    "train_x = pca_train\n",
    "train_x = train_x.astype(float)\n",
    "\n",
    "#balance data by over_sampling using SMOTE(Synthetic Minority Oversampling Technique)\n",
    "\n",
    "X_train, X_test, y_train, y_test = train_test_split(train_x, train_y, test_size=0.2, random_state=0)\n",
    "\n",
    "\n",
    "#scale (MUST scale to make it work)\n",
    "from sklearn.preprocessing import StandardScaler\n",
    "sc = StandardScaler()\n",
    "\n",
    "X_train = sc.fit_transform(X_train)\n",
    "X_test = sc.fit_transform(X_test)"
   ]
  },
  {
   "cell_type": "code",
   "execution_count": 0,
   "metadata": {
    "colab": {
     "base_uri": "https://localhost:8080/",
     "height": 86
    },
    "colab_type": "code",
    "id": "Sp1OIibRdq_O",
    "outputId": "bec1e6ed-aa4a-4498-ee3f-9dbd3fb8ba66"
   },
   "outputs": [
    {
     "name": "stderr",
     "output_type": "stream",
     "text": [
      "/usr/local/lib/python2.7/dist-packages/sklearn/linear_model/logistic.py:433: FutureWarning: Default solver will be changed to 'lbfgs' in 0.22. Specify a solver to silence this warning.\n",
      "  FutureWarning)\n"
     ]
    }
   ],
   "source": [
    "#try different weight for class 0 and 1\n",
    "num_matrix = 5\n",
    "\n",
    "confusion_matrix_list = np.zeros((num_matrix, 4, 2)) \n",
    "# +2 for including the corresponding weight assignment and accuracy\n",
    "\n",
    "roc_list = np.zeros(num_matrix)\n",
    "\n",
    "weight1 = 0.1\n",
    "weight2 = 0.9\n",
    "\n",
    "for i in range(num_matrix):\n",
    "  log_reg = LogisticRegression(class_weight = {0:weight1, 1:weight2}, random_state=42)\n",
    "  log_reg.fit(X_train, y_train)\n",
    "  y_pred = log_reg.predict(X_test)\n",
    "  conf_matrix = confusion_matrix(y_test, y_pred)\n",
    "\n",
    "  confusion_matrix_list[i][0:-2] = conf_matrix\n",
    "  confusion_matrix_list[i][-2] = np.array([weight1, weight2])\n",
    "  roc_score = roc_auc_score(y_test, log_reg.predict(X_test))\n",
    "  confusion_matrix_list[i][-1] = np.array([log_reg.score(X_test, y_test), roc_score])\n",
    "  roc_list[i] = roc_score\n",
    "\n",
    "  weight1 += 0.1\n",
    "  weight2 -= 0.1\n",
    "  "
   ]
  },
  {
   "cell_type": "code",
   "execution_count": 0,
   "metadata": {
    "colab": {
     "base_uri": "https://localhost:8080/",
     "height": 160
    },
    "colab_type": "code",
    "id": "XeTcmDfpxBO0",
    "outputId": "26d39e42-0043-4ed7-f80b-789e6999ead0"
   },
   "outputs": [
    {
     "name": "stdout",
     "output_type": "stream",
     "text": [
      "True Negative/False Negative    False Positive/True Positive    class 0 weight/class 1 weight    test accuracy/ ROC score\n",
      "------------------------------  ------------------------------  -------------------------------  --------------------------\n",
      "[481831. 391000.]               [ 19151. 126070.]               [0.1 0.9]                        [0.59712176 0.71007877]\n",
      "[674193. 198638.]               [ 45040. 100181.]               [0.2 0.8]                        [0.76064287 0.73113651]\n",
      "[788079.  84752.]               [72917. 72304.]                 [0.3 0.7]                        [0.84512677 0.70039465]\n",
      "[845912.  26919.]               [105690.  39531.]               [0.4 0.6]                        [0.86974241 0.62068584]\n",
      "[868381.   4450.]               [133094.  12127.]               [0.5 0.5]                        [0.86489492 0.53920443]\n"
     ]
    }
   ],
   "source": [
    "from tabulate import tabulate\n",
    "\n",
    "print tabulate(confusion_matrix_list, headers=['True Negative/False Negative','False Positive/True Positive', 'class 0 weight/class 1 weight', 'test accuracy/ ROC score'])"
   ]
  }
 ],
 "metadata": {
  "accelerator": "GPU",
  "colab": {
   "collapsed_sections": [],
   "name": "841 logistic regression perfect data.ipynb",
   "provenance": [],
   "version": "0.3.2"
  },
  "kernelspec": {
   "display_name": "Python 3",
   "language": "python",
   "name": "python3"
  },
  "language_info": {
   "codemirror_mode": {
    "name": "ipython",
    "version": 3
   },
   "file_extension": ".py",
   "mimetype": "text/x-python",
   "name": "python",
   "nbconvert_exporter": "python",
   "pygments_lexer": "ipython3",
   "version": "3.7.3"
  }
 },
 "nbformat": 4,
 "nbformat_minor": 1
}
