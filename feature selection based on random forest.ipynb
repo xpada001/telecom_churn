{
 "cells": [
  {
   "cell_type": "code",
   "execution_count": 1,
   "metadata": {
    "colab": {
     "base_uri": "https://localhost:8080/",
     "height": 919
    },
    "colab_type": "code",
    "executionInfo": {
     "elapsed": 1619,
     "status": "error",
     "timestamp": 1544707025815,
     "user": {
      "displayName": "苏荣荣",
      "photoUrl": "",
      "userId": "13500401361969202753"
     },
     "user_tz": 300
    },
    "id": "nskY_3UEMveZ",
    "outputId": "656c1820-a64b-4209-a5d2-9b55a09c20cd"
   },
   "outputs": [],
   "source": [
    "import numpy as np # linear algebra\n",
    "import pandas as pd # data processing, CSV file I/O (e.g. pd.read_csv)\n",
    "import sklearn\n",
    "import matplotlib.pyplot as plt\n",
    "%matplotlib inline\n",
    "from sklearn.model_selection import train_test_split\n",
    "import matplotlib as mpl\n",
    "import seaborn as sns"
   ]
  },
  {
   "cell_type": "code",
   "execution_count": 0,
   "metadata": {
    "colab": {},
    "colab_type": "code",
    "id": "mOJGnTORN4gW"
   },
   "outputs": [],
   "source": [
    "train = pd.read_csv('train_no_missing_outlier.csv')\n",
    "del train['id']\n",
    "del train['open_date']"
   ]
  },
  {
   "cell_type": "code",
   "execution_count": 0,
   "metadata": {
    "colab": {},
    "colab_type": "code",
    "id": "QkCXnZ-MOEI8"
   },
   "outputs": [],
   "source": [
    "target='flag'\n",
    "train['flag'].value_counts()\n",
    "x_columns=[x for x in train.columns if x not in [target] ]\n",
    "X_tot=train[x_columns]\n",
    "X=X_tot.drop(columns=['caller_sum_45','caller_sum_456','record_sum_45','record_sum_456','time_sum_45','time_sum_456'])\n",
    "y=train['flag']"
   ]
  },
  {
   "cell_type": "code",
   "execution_count": 0,
   "metadata": {
    "colab": {
     "base_uri": "https://localhost:8080/",
     "height": 735
    },
    "colab_type": "code",
    "executionInfo": {
     "elapsed": 21019,
     "status": "ok",
     "timestamp": 1544701276854,
     "user": {
      "displayName": "Chen Siao",
      "photoUrl": "",
      "userId": "10255725406936450127"
     },
     "user_tz": 300
    },
    "id": "xnJLjpAvOIfJ",
    "outputId": "cbd296e6-ede8-476c-8fab-9d34c6dc2447"
   },
   "outputs": [
    {
     "name": "stdout",
     "output_type": "stream",
     "text": [
      "              caller_sum_6  record_sum_6  time_sum_6  caller_sum_4  \\\n",
      "caller_sum_6      1.000000      0.899436    0.640460      0.932939   \n",
      "record_sum_6      0.899436      1.000000    0.787968      0.837034   \n",
      "time_sum_6        0.640460      0.787968    1.000000      0.588625   \n",
      "caller_sum_4      0.932939      0.837034    0.588625      1.000000   \n",
      "record_sum_4      0.861683      0.945681    0.736163      0.888304   \n",
      "time_sum_4        0.607670      0.736485    0.894547      0.619203   \n",
      "caller_sum_5      0.988448      0.879877    0.623375      0.909862   \n",
      "record_sum_5      0.891022      0.990162    0.781977      0.815479   \n",
      "time_sum_5        0.630237      0.774673    0.975659      0.569590   \n",
      "brand            -0.225021     -0.244006   -0.143494     -0.221629   \n",
      "city_flag         0.049103      0.028612    0.030854      0.048378   \n",
      "day               0.274198      0.273085    0.135940      0.270067   \n",
      "\n",
      "              record_sum_4  time_sum_4  caller_sum_5  record_sum_5  \\\n",
      "caller_sum_6      0.861683    0.607670      0.988448      0.891022   \n",
      "record_sum_6      0.945681    0.736485      0.879877      0.990162   \n",
      "time_sum_6        0.736163    0.894547      0.623375      0.781977   \n",
      "caller_sum_4      0.888304    0.619203      0.909862      0.815479   \n",
      "record_sum_4      1.000000    0.780999      0.834769      0.925238   \n",
      "time_sum_4        0.780999    1.000000      0.585696      0.721014   \n",
      "caller_sum_5      0.834769    0.585696      1.000000      0.885254   \n",
      "record_sum_5      0.925238    0.721014      0.885254      1.000000   \n",
      "time_sum_5        0.713937    0.863162      0.622487      0.785769   \n",
      "brand            -0.247564   -0.147194     -0.218961     -0.240987   \n",
      "city_flag         0.029153    0.030780      0.047956      0.026814   \n",
      "day               0.281272    0.145050      0.269243      0.268916   \n",
      "\n",
      "              time_sum_5     brand  city_flag       day  \n",
      "caller_sum_6    0.630237 -0.225021   0.049103  0.274198  \n",
      "record_sum_6    0.774673 -0.244006   0.028612  0.273085  \n",
      "time_sum_6      0.975659 -0.143494   0.030854  0.135940  \n",
      "caller_sum_4    0.569590 -0.221629   0.048378  0.270067  \n",
      "record_sum_4    0.713937 -0.247564   0.029153  0.281272  \n",
      "time_sum_4      0.863162 -0.147194   0.030780  0.145050  \n",
      "caller_sum_5    0.622487 -0.218961   0.047956  0.269243  \n",
      "record_sum_5    0.785769 -0.240987   0.026814  0.268916  \n",
      "time_sum_5      1.000000 -0.139428   0.028508  0.131810  \n",
      "brand          -0.139428  1.000000  -0.014027 -0.388879  \n",
      "city_flag       0.028508 -0.014027   1.000000  0.028451  \n",
      "day             0.131810 -0.388879   0.028451  1.000000  \n"
     ]
    }
   ],
   "source": [
    "#feature correlation\n",
    "Cor = X.iloc[:,0:12]\n",
    "Cor_matrxi = Cor.corr(method='pearson', min_periods=1)\n",
    "print(Cor_matrxi)"
   ]
  },
  {
   "cell_type": "code",
   "execution_count": 0,
   "metadata": {
    "colab": {},
    "colab_type": "code",
    "id": "TajCyZ3jSYYa"
   },
   "outputs": [],
   "source": [
    "con=['caller_sum_6','record_sum_6','time_sum_6','caller_sum_4','record_sum_4','time_sum_4', 'caller_sum_5','record_sum_5','time_sum_5','brand','city_flag','day']"
   ]
  },
  {
   "cell_type": "code",
   "execution_count": 0,
   "metadata": {
    "colab": {
     "base_uri": "https://localhost:8080/",
     "height": 481
    },
    "colab_type": "code",
    "executionInfo": {
     "elapsed": 21264,
     "status": "ok",
     "timestamp": 1544701277112,
     "user": {
      "displayName": "Chen Siao",
      "photoUrl": "",
      "userId": "10255725406936450127"
     },
     "user_tz": 300
    },
    "id": "JPypi_26QSf3",
    "outputId": "94f41ad1-728d-43b3-849a-00b17018ab9a"
   },
   "outputs": [
    {
     "data": {
      "text/plain": [
       "(array([ 0.5,  1.5,  2.5,  3.5,  4.5,  5.5,  6.5,  7.5,  8.5,  9.5, 10.5,\n",
       "        11.5]), <a list of 12 Text xticklabel objects>)"
      ]
     },
     "execution_count": 8,
     "metadata": {
      "tags": []
     },
     "output_type": "execute_result"
    },
    {
     "data": {
      "image/png": "[encoded data removed]",
      "text/plain": [
       "<matplotlib.figure.Figure at 0x7f44422f1160>"
      ]
     },
     "metadata": {
      "tags": []
     },
     "output_type": "display_data"
    }
   ],
   "source": [
    "fig, ax = plt.subplots()\n",
    "heatmap = ax.pcolor(Cor_matrxi, cmap=plt.cm.Blues, alpha=0.8)\n",
    "fig = plt.gcf()\n",
    "fig.set_size_inches(6, 6)\n",
    "ax.set_frame_on(False)\n",
    "ax.set_yticks(np.arange(12) + 0.5, minor=False)\n",
    "ax.set_xticks(np.arange(12) + 0.5, minor=False)\n",
    "ax.set_xticklabels(con[0:12], minor=False)\n",
    "ax.set_yticklabels(con[0:12], minor=False)\n",
    "plt.xticks(rotation=90)"
   ]
  },
  {
   "cell_type": "code",
   "execution_count": 0,
   "metadata": {
    "colab": {},
    "colab_type": "code",
    "id": "GlIVWw1LSFI1"
   },
   "outputs": [],
   "source": [
    "#fueature selection\n",
    "import numpy as np\n",
    "from sklearn.ensemble import RandomForestClassifier\n",
    "from sklearn.model_selection import train_test_split\n",
    "from sklearn.feature_selection import SelectFromModel\n",
    "from sklearn.metrics import accuracy_score"
   ]
  },
  {
   "cell_type": "code",
   "execution_count": 0,
   "metadata": {
    "colab": {
     "base_uri": "https://localhost:8080/",
     "height": 193
    },
    "colab_type": "code",
    "executionInfo": {
     "elapsed": 324768,
     "status": "ok",
     "timestamp": 1544701580627,
     "user": {
      "displayName": "Chen Siao",
      "photoUrl": "",
      "userId": "10255725406936450127"
     },
     "user_tz": 300
    },
    "id": "8CRaJwnrVNEV",
    "outputId": "4f4ab729-e71f-481b-cd8f-78746a958c5e"
   },
   "outputs": [
    {
     "name": "stderr",
     "output_type": "stream",
     "text": [
      "/usr/local/lib/python3.6/dist-packages/sklearn/ensemble/forest.py:246: FutureWarning: The default value of n_estimators will change from 10 in version 0.20 to 100 in 0.22.\n",
      "  \"10 in version 0.20 to 100 in 0.22.\", FutureWarning)\n"
     ]
    },
    {
     "data": {
      "text/plain": [
       "RandomForestClassifier(bootstrap=True, class_weight=None, criterion='gini',\n",
       "            max_depth=None, max_features='auto', max_leaf_nodes=None,\n",
       "            min_impurity_decrease=0.0, min_impurity_split=None,\n",
       "            min_samples_leaf=1, min_samples_split=2,\n",
       "            min_weight_fraction_leaf=0.0, n_estimators=10, n_jobs=None,\n",
       "            oob_score=False, random_state=None, verbose=0,\n",
       "            warm_start=False)"
      ]
     },
     "execution_count": 10,
     "metadata": {
      "tags": []
     },
     "output_type": "execute_result"
    }
   ],
   "source": [
    "X_train, X_test, y_train, y_test = train_test_split(X, y, test_size=0.2, random_state=0)\n",
    "clf = RandomForestClassifier()\n",
    "clf.fit(X_train, y_train)\n"
   ]
  },
  {
   "cell_type": "code",
   "execution_count": 0,
   "metadata": {
    "colab": {
     "base_uri": "https://localhost:8080/",
     "height": 236
    },
    "colab_type": "code",
    "executionInfo": {
     "elapsed": 324767,
     "status": "ok",
     "timestamp": 1544701580630,
     "user": {
      "displayName": "Chen Siao",
      "photoUrl": "",
      "userId": "10255725406936450127"
     },
     "user_tz": 300
    },
    "id": "OD7JXCdcZfeA",
    "outputId": "eab8b331-c35e-4f7f-9f04-2d3c00c55e8d"
   },
   "outputs": [
    {
     "name": "stdout",
     "output_type": "stream",
     "text": [
      "('caller_sum_6', 0.05577115363254538)\n",
      "('record_sum_6', 0.07543148948599371)\n",
      "('time_sum_6', 0.09159818704399918)\n",
      "('caller_sum_4', 0.06323701954085767)\n",
      "('record_sum_4', 0.09033910034167696)\n",
      "('time_sum_4', 0.10115940353609787)\n",
      "('caller_sum_5', 0.06170416169808261)\n",
      "('record_sum_5', 0.10729892385093547)\n",
      "('time_sum_5', 0.09471643332720976)\n",
      "('brand', 0.025876862751425388)\n",
      "('city_flag', 0.00970467822997881)\n",
      "('day', 0.2231625865611972)\n"
     ]
    }
   ],
   "source": [
    "for feature in zip(con, clf.feature_importances_):\n",
    "    print(feature)"
   ]
  },
  {
   "cell_type": "code",
   "execution_count": 0,
   "metadata": {
    "colab": {
     "base_uri": "https://localhost:8080/",
     "height": 192
    },
    "colab_type": "code",
    "executionInfo": {
     "elapsed": 706800,
     "status": "ok",
     "timestamp": 1544701962669,
     "user": {
      "displayName": "Chen Siao",
      "photoUrl": "",
      "userId": "10255725406936450127"
     },
     "user_tz": 300
    },
    "id": "ircylaqtV05l",
    "outputId": "b65a6d2f-42a2-4417-c84b-6049bd91d31b"
   },
   "outputs": [
    {
     "data": {
      "text/plain": [
       "SelectFromModel(estimator=RandomForestClassifier(bootstrap=True, class_weight=None, criterion='gini',\n",
       "            max_depth=None, max_features='auto', max_leaf_nodes=None,\n",
       "            min_impurity_decrease=0.0, min_impurity_split=None,\n",
       "            min_samples_leaf=1, min_samples_split=2,\n",
       "            min_weight_fraction_leaf=0.0, n_estimators=10, n_jobs=None,\n",
       "            oob_score=False, random_state=None, verbose=0,\n",
       "            warm_start=False),\n",
       "        max_features=None, norm_order=1, prefit=False, threshold=0.05)"
      ]
     },
     "execution_count": 12,
     "metadata": {
      "tags": []
     },
     "output_type": "execute_result"
    }
   ],
   "source": [
    "sfm = SelectFromModel(clf, threshold=0.05)\n",
    "sfm.fit(X, y)"
   ]
  },
  {
   "cell_type": "code",
   "execution_count": 0,
   "metadata": {
    "colab": {
     "base_uri": "https://localhost:8080/",
     "height": 203
    },
    "colab_type": "code",
    "executionInfo": {
     "elapsed": 706798,
     "status": "ok",
     "timestamp": 1544701962671,
     "user": {
      "displayName": "Chen Siao",
      "photoUrl": "",
      "userId": "10255725406936450127"
     },
     "user_tz": 300
    },
    "id": "Q0iA76YJbw1A",
    "outputId": "27c56d90-6641-4035-bccd-a610b6540d99"
   },
   "outputs": [
    {
     "name": "stdout",
     "output_type": "stream",
     "text": [
      "caller_sum_6\n",
      "record_sum_6\n",
      "time_sum_6\n",
      "caller_sum_4\n",
      "record_sum_4\n",
      "time_sum_4\n",
      "caller_sum_5\n",
      "record_sum_5\n",
      "time_sum_5\n",
      "day\n"
     ]
    }
   ],
   "source": [
    "#what are important features\n",
    "con=['caller_sum_6','record_sum_6','time_sum_6','caller_sum_4','record_sum_4','time_sum_4', 'caller_sum_5','record_sum_5','time_sum_5','brand','city_flag','day']\n",
    "for feature_list_index in sfm.get_support(indices=True):\n",
    "    print(con[feature_list_index])"
   ]
  },
  {
   "cell_type": "code",
   "execution_count": 0,
   "metadata": {
    "colab": {},
    "colab_type": "code",
    "id": "dPx8__gygjSl"
   },
   "outputs": [],
   "source": [
    "X_important_train = sfm.transform(X_train)\n",
    "X_important_test = sfm.transform(X_test)"
   ]
  },
  {
   "cell_type": "code",
   "execution_count": null,
   "metadata": {
    "colab": {
     "base_uri": "https://localhost:8080/",
     "height": 220
    },
    "colab_type": "code",
    "executionInfo": {
     "elapsed": 707862,
     "status": "error",
     "timestamp": 1544701963743,
     "user": {
      "displayName": "Chen Siao",
      "photoUrl": "",
      "userId": "10255725406936450127"
     },
     "user_tz": 300
    },
    "id": "0LeoP32QrF1n",
    "outputId": "69c0c4fa-f51e-4490-9705-f301abb0705b"
   },
   "outputs": [],
   "source": [
    "clf_important = RandomForestClassifier()\n",
    "y_pred = clf_important.predict(X_important_test)\n",
    "accuracy_score(y_test, y_pred)"
   ]
  },
  {
   "cell_type": "code",
   "execution_count": 0,
   "metadata": {
    "colab": {},
    "colab_type": "code",
    "id": "k1SzkLSzj7_b"
   },
   "outputs": [],
   "source": [
    "y_pred = clf_important.predict(X_important_test)\n",
    "from sklearn.metrics import roc_curve, auc\n",
    "false_positive_rate, true_positive_rate, thresholds = roc_curve(y_test, y_pred)\n",
    "roc_auc = auc(false_positive_rate, true_positive_rate)\n",
    "roc_auc"
   ]
  },
  {
   "cell_type": "code",
   "execution_count": 0,
   "metadata": {
    "colab": {},
    "colab_type": "code",
    "id": "OJ_NGen-r5pz"
   },
   "outputs": [],
   "source": [
    "accuracy_score(y_test, y_pred)"
   ]
  },
  {
   "cell_type": "code",
   "execution_count": 0,
   "metadata": {
    "colab": {},
    "colab_type": "code",
    "id": "s5sUCbh8jcjQ"
   },
   "outputs": [],
   "source": [
    "from pandas import DataFrame\n",
    "X_xx=DataFrame(X_important_test)"
   ]
  },
  {
   "cell_type": "code",
   "execution_count": 0,
   "metadata": {
    "colab": {},
    "colab_type": "code",
    "id": "KxMYD7q6poUE"
   },
   "outputs": [],
   "source": [
    "X_xx.to_csv('feature selection from random forest.csv')"
   ]
  },
  {
   "cell_type": "code",
   "execution_count": 0,
   "metadata": {
    "colab": {},
    "colab_type": "code",
    "id": "_X3EjjLZjF3Q"
   },
   "outputs": [],
   "source": [
    "from sklearn.ensemble import GradientBoostingClassifier\n",
    "model_important=GradientBoostingClassifier()\n",
    "model_important.fit(X_important_train, y_train)"
   ]
  },
  {
   "cell_type": "code",
   "execution_count": 0,
   "metadata": {
    "colab": {},
    "colab_type": "code",
    "id": "BhtbEhIHofNa"
   },
   "outputs": [],
   "source": [
    "y_pred = model_important.predict(X_important_test)\n",
    "from sklearn.metrics import roc_curve, auc\n",
    "false_positive_rate, true_positive_rate, thresholds = roc_curve(y_test, y_pred)\n",
    "roc_auc = auc(false_positive_rate, true_positive_rate)\n",
    "roc_auc"
   ]
  },
  {
   "cell_type": "code",
   "execution_count": 0,
   "metadata": {
    "colab": {},
    "colab_type": "code",
    "id": "ctCXfxJOV98z"
   },
   "outputs": [],
   "source": [
    "y_pred = clf.predict(X_test)\n",
    "from sklearn.metrics import roc_curve, auc\n",
    "false_positive_rate, true_positive_rate, thresholds = roc_curve(y_test, y_pred)\n",
    "roc_auc = auc(false_positive_rate, true_positive_rate)\n",
    "roc_auc"
   ]
  },
  {
   "cell_type": "code",
   "execution_count": 0,
   "metadata": {
    "colab": {},
    "colab_type": "code",
    "id": "xSmenxzYbet2"
   },
   "outputs": [],
   "source": [
    "\n",
    "xx=['day','record_sum_5','caller_sum_5','record_sum_6','record_sum_4', 'brand','time_sum_5','time_sum_4','caller_sum_4','city_flag']\n",
    "X=train[xx]"
   ]
  },
  {
   "cell_type": "code",
   "execution_count": 0,
   "metadata": {
    "colab": {},
    "colab_type": "code",
    "id": "JE_bJcJzct1_"
   },
   "outputs": [],
   "source": [
    "X_train, X_test, y_train, y_test = train_test_split(X, y, test_size=0.2, random_state=0)\n",
    "clf = RandomForestClassifier()\n",
    "clf.fit(X_train, y_train)\n",
    "y_pred = clf.predict(X_test)\n",
    "from sklearn.metrics import roc_curve, auc\n",
    "false_positive_rate, true_positive_rate, thresholds = roc_curve(y_test, y_pred)\n",
    "roc_auc = auc(false_positive_rate, true_positive_rate)\n",
    "roc_auc"
   ]
  },
  {
   "cell_type": "code",
   "execution_count": 0,
   "metadata": {
    "colab": {},
    "colab_type": "code",
    "id": "K26MTojnfGtJ"
   },
   "outputs": [],
   "source": []
  }
 ],
 "metadata": {
  "accelerator": "GPU",
  "colab": {
   "collapsed_sections": [],
   "name": "feature selection based on random forest.ipynb",
   "provenance": [],
   "version": "0.3.2"
  },
  "kernelspec": {
   "display_name": "Python 3",
   "language": "python",
   "name": "python3"
  },
  "language_info": {
   "codemirror_mode": {
    "name": "ipython",
    "version": 3
   },
   "file_extension": ".py",
   "mimetype": "text/x-python",
   "name": "python",
   "nbconvert_exporter": "python",
   "pygments_lexer": "ipython3",
   "version": "3.7.3"
  }
 },
 "nbformat": 4,
 "nbformat_minor": 1
}
